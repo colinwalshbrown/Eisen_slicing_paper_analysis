{
 "cells": [
  {
   "cell_type": "code",
   "execution_count": 21,
   "metadata": {
    "collapsed": false
   },
   "outputs": [],
   "source": [
    "%matplotlib inline\n",
    "import fasta_subseq_2 as fa\n",
    "import seq_plotmethods as sp\n",
    "#import chipseq_processing as cp\n",
    "import itertools as it\n",
    "import tables as tb\n",
    "import numpy as np\n",
    "import subprocess as subp\n",
    "import matplotlib.pyplot as plt\n",
    "import scipy.stats as stats\n",
    "import pandas as pd\n",
    "import gzip\n",
    "import tarfile\n",
    "import re\n",
    "import patser_tools as pat\n",
    "#import matplotlib_venn as vn \n",
    "import os\n",
    "import shutil\n",
    "from __future__ import division\n",
    "from skimage import io as skio\n",
    "from skimage import transform as skxform\n",
    "\n",
    "# set up plotting environment for LaTeX compatability\n",
    "plt.rc('text', usetex = False)\n",
    "plt.rc('font', family = 'serif') "
   ]
  },
  {
   "cell_type": "code",
   "execution_count": 22,
   "metadata": {
    "collapsed": false
   },
   "outputs": [],
   "source": [
    "class chipExpt():\n",
    "    def __init__(self,group,name=\"NoName\",chrs=DMEL_CHRS_EU,chr_ext='ext'):\n",
    "        self.chr_dict = {}\n",
    "        self.group = group\n",
    "        self.name = name\n",
    "        arrays = group._v_children.items()\n",
    "        if chrs:\n",
    "            for ch in chrs:\n",
    "                chr_found = 0\n",
    "                for (name,node) in arrays:\n",
    "                    if re.search(chr_ext + \"\\w*_(chr)?\"+ch+\"$\",name):\n",
    "                        #print (ch,name,node.name)\n",
    "                        chr_found = 1\n",
    "                        self.chr_dict[ch] = node\n",
    "                        break\n",
    "                if chr_found == 0:\n",
    "                    print \"no chr found for %s\" % (ch,)\n",
    "        else:\n",
    "            for n in group._f_walkNodes():\n",
    "                ch_s = re.search(\"chr(.+)\",n.name)\n",
    "                self.chr_dict[ch_s.group(1)] = n\n",
    "                break\n",
    "                    \n",
    "    def __getitem__(self,item):\n",
    "        return self.chr_dict[item]\n",
    "\n",
    "    def write_wig(self,chr_convert=None,span=10,outfile=None):\n",
    "        if outfile == None:\n",
    "            outfile = self.name + \".wig\"\n",
    "        wigout = open(outfile,\"w\")\n",
    "        print >> wigout, \"track type=wiggle_0 name=%s description=%s visibility=full autoScale=off maxHeightPixels=100:50:20\" % (self.name,self.name)\n",
    "        for (chrom,chr_arr) in self.chr_dict.items():\n",
    "            print \"Writing %s...\" % (chrom,),\n",
    "            name = chrom\n",
    "            if chr_convert != None:\n",
    "                name = chr_convert[chrom]\n",
    "            print >> wigout, \"variableStep chrom=%s span=%d\" % (name,span)\n",
    "            for i in np.arange(1,len(chr_arr),step=span):\n",
    "                print >> wigout, \"%d\\t%f\" % (i,np.sum(chr_arr[i:i+span])/float(span))\n",
    "            print \"done!\"\n",
    "        wigout.close()"
   ]
  },
  {
   "cell_type": "markdown",
   "metadata": {},
   "source": [
    "## Datasets:\n",
    "\n",
    "1. Early developmental **genes** from Bradley et. al. (2010)\n",
    "2. Early developmental **enhancers** from Paris et. al. (2012?)\n",
    "3. RedFly - wider set, harder to parse?"
   ]
  },
  {
   "cell_type": "code",
   "execution_count": 23,
   "metadata": {
    "collapsed": false
   },
   "outputs": [
    {
     "name": "stdout",
     "output_type": "stream",
     "text": [
      "WARNING: group 'macs_peaks' exists!\n",
      "WARNING: group 'macs_peaks' exists!\n",
      "WARNING: group 'macs_peaks' exists!\n",
      "WARNING: group 'macs_peaks' exists!\n",
      "Peak window (peak width +/- 0)\n",
      "Starting Sets:\n",
      "\tgtAm :     3000 peaks\n",
      "\tgtPm :      915 peaks\n",
      "\tgtCm :     1870 peaks\n",
      "\tgtW1m :     1629 peaks\n",
      "\tgtW2m :     1557 peaks\n",
      "8971 total peaks in starting set\n",
      "3333 in union, 2022 in intersect\n",
      "final isct: 2022 before filtering, 2022 after\n",
      "total overlapping peaks (all sets): 4044\n",
      "By-Experiment Overlap Counts:\n",
      "\tgtPm :      165\n",
      "\tgtCm :     1054\n",
      "\tgtW2m :      380\n",
      "\tgtW1m :      745\n",
      "\tgtAm :     1700\n",
      "GT Dmel Final 5-way overlaps: 634\n"
     ]
    }
   ],
   "source": [
    "# Working directory; change if necessary\n",
    "home = os.environ[\"HOME\"]\n",
    "current_dir = home + \"/Dropbox/Documents/Manuscripts/slicing/analysis_notebook/\"\n",
    "genomes_dir = current_dir + \"genomes/\"\n",
    "reads_dir = current_dir + \"reads/\"\n",
    "data_out_dir = current_dir + \"data/\"\n",
    "figs_dir = current_dir + \"figs/\"\n",
    "scripts_dir = current_dir + \"scripts/\"\n",
    "mapping_dir = data_out_dir + \"mapping/\"\n",
    "peaks_dir = data_out_dir + \"peaks/\"\n",
    "h5_dir = data_out_dir + \"hf5/\"\n",
    "\n",
    "# Define chromosome names for dmel and dpse\n",
    "DMEL_CHRS = ['2L','2R','3L','3R','X','YHet','4','2LHet','2RHet','3LHet','3RHet','XHet','U','Uextra']\n",
    "DMEL_CHRS_EU = ['2L','2R','3L','3R','X']\n",
    "\n",
    "# Load treatment data\n",
    "\n",
    "# giant ChIP\n",
    "gtAm_h5 = tb.open_file(h5_dir+'gtA_dmel.h5', mode='r+')\n",
    "gtPm_h5 = tb.open_file(h5_dir+'gtP_dmel.h5', mode='r+')\n",
    "gtCm_h5 = tb.open_file(h5_dir+'gtC_dmel.h5', mode='r+')\n",
    "gtW1m_h5 = tb.open_file(h5_dir+'gtW1_dmel.h5', mode='r+')\n",
    "gtW2m_h5 = tb.open_file(h5_dir+'gtW2_dmel.h5', mode='r+')\n",
    "\n",
    "# Load dmel input data - concatenated reads from all input samples\n",
    "inAllm_h5 = tb.open_file(h5_dir+'inAll_dmel.h5', mode='r+')\n",
    "\n",
    "# make chipExpt objects for all above (tag-normed and raw counts)\n",
    "gtAm_tn = chipExpt(gtAm_h5.root.tag_counts.ext_tags,\"Dmel Ant GT ChIP, tag-normalized\")\n",
    "gtPm_tn = chipExpt(gtPm_h5.root.tag_counts.ext_tags,\"Dmel Post GT ChIP, tag-normalized\")\n",
    "gtCm_tn = chipExpt(gtCm_h5.root.tag_counts.ext_tags,\"Dmel Combo GT ChIP, tag-normalized\")\n",
    "gtW1m_tn = chipExpt(gtW1m_h5.root.tag_counts.ext_tags,\"Dmel Whole Rep1 GT ChIP, tag-normalized\")\n",
    "gtW2m_tn = chipExpt(gtW2m_h5.root.tag_counts.ext_tags,\"Dmel Whole Rep2 GT ChIP, tag-normalized\")\n",
    "\n",
    "# Load Peak Data\n",
    "try:\n",
    "    pks_h5 = tb.open_file(peaks_dir+\"/peaks.h5\",\"w\")\n",
    "except ValueError:\n",
    "    pks_h5.close()\n",
    "    pks_h5 = tb.open_file(peaks_dir+\"/peaks.h5\",\"w\")\n",
    "\n",
    "# GT peaks    \n",
    "gtAm_pks_tb = sp.read_macs(pks_h5,peaks_dir+\"gtA_dmel_peaks.xls\",expt_name=\"gtAm_pks\")\n",
    "gtPm_pks_tb = sp.read_macs(pks_h5,peaks_dir+\"gtP_dmel_peaks.xls\",expt_name=\"gtPm_pks\")\n",
    "gtCm_pks_tb = sp.read_macs(pks_h5,peaks_dir+\"gtC_dmel_peaks.xls\",expt_name=\"gtCm_pks\")\n",
    "gtW1m_pks_tb = sp.read_macs(pks_h5,peaks_dir+\"gtW1_dmel_peaks.xls\",expt_name=\"gtW1m_pks\")\n",
    "gtW2m_pks_tb = sp.read_macs(pks_h5,peaks_dir+\"gtW2_dmel_peaks.xls\",expt_name=\"gtW2m_pks\")\n",
    "\n",
    "gtAm_pks = [x for x in sp.pks_to_dict(gtAm_pks_tb) if x['chr'] in DMEL_CHRS_EU]\n",
    "gtPm_pks = [x for x in sp.pks_to_dict(gtPm_pks_tb) if x['chr'] in DMEL_CHRS_EU]\n",
    "gtCm_pks = [x for x in sp.pks_to_dict(gtCm_pks_tb) if x['chr'] in DMEL_CHRS_EU]\n",
    "gtW1m_pks = [x for x in sp.pks_to_dict(gtW1m_pks_tb) if x['chr'] in DMEL_CHRS_EU]\n",
    "gtW2m_pks = [x for x in sp.pks_to_dict(gtW2m_pks_tb) if x['chr'] in DMEL_CHRS_EU]\n",
    "\n",
    "(gtm_un0_pks,gtm_in0_pks,gtm_OL0_pks) = sp.peak_union(0,0,['gtAm','gtPm','gtCm','gtW1m','gtW2m'],True,gtAm_pks,gtPm_pks,gtCm_pks,gtW1m_pks,gtW2m_pks)\n",
    "gtm_5wy_OLs = [x for x in gtm_in0_pks if len(set(x['sets'])) == 5]\n",
    "print \"GT Dmel Final 5-way overlaps: %d\" % (len(gtm_5wy_OLs))\n",
    "\n",
    "# Get matching peak sets from each GT dataset\n",
    "(top1000gtW1m_5wy_OL_pi,top1000gtW1m_5wy_OL) = zip(*sp.get_top_n_peaks(1000,gtm_5wy_OLs,gtW1m_tn))\n",
    "gtAm_top1000gtW1m_5OL_tn = sp.make_array_from_peaks('ns',top1000gtW1m_5wy_OL,gtAm_tn)\n",
    "gtPm_top1000gtW1m_5OL_tn = sp.make_array_from_peaks('ns',top1000gtW1m_5wy_OL,gtPm_tn)\n",
    "gtW1m_top1000gtW1m_5OL_tn = sp.make_array_from_peaks('ns',top1000gtW1m_5wy_OL,gtW1m_tn)\n",
    "gtW2m_top1000gtW1m_5OL_tn = sp.make_array_from_peaks('ns',top1000gtW1m_5wy_OL,gtW2m_tn)\n",
    "gtCm_top1000gtW1m_5OL_tn = sp.make_array_from_peaks('ns',top1000gtW1m_5wy_OL,gtCm_tn)\n",
    "\n",
    "# Get 5-way union peak sets from each GT experiment\n",
    "gtAm_5un_tn = sp.make_array_from_peaks('ns',gtm_un0_pks,gtAm_tn)\n",
    "gtPm_5un_tn = sp.make_array_from_peaks('ns',gtm_un0_pks,gtPm_tn)\n",
    "gtW1m_5un_tn = sp.make_array_from_peaks('ns',gtm_un0_pks,gtW1m_tn)\n",
    "gtW2m_5un_tn = sp.make_array_from_peaks('ns',gtm_un0_pks,gtW2m_tn)\n",
    "gtCm_5un_tn = sp.make_array_from_peaks('ns',gtm_un0_pks,gtCm_tn)\n",
    "\n",
    "gff_h5 = h5_dir + \"/gff.h5\"\n",
    "gff_dmel = sp.GFFtable(genomes_dir + \"/dmel-all-r5.17_genes.gff\",gff_h5,DMEL_CHRS_EU,\"gene\")\n",
    "\n",
    "b2010_genes = \"brk, D, Doc1, Doc2, E(spl), Kr, Phm, SoxN, vnd, bowl, btd, cad, croc, dpp, ems, eve, fkh, ftz, gt, h, hb, hkb, ind, kni, knrl, noc, nub, oc, odd, opa, os, pdm2, pnr, prd, pxb, rho, run, salm, shn, sim, slp1, slp2, sna, sob, sog, ths, tld, tll, tsh, tup, twi, vn, wntD, zen\".split(\", \")\n",
    "b2010_locs = [(g,gff_dmel.gene_location(g)) for g in b2010_genes]\n",
    "\n",
    "\n"
   ]
  },
  {
   "cell_type": "code",
   "execution_count": 24,
   "metadata": {
    "collapsed": false
   },
   "outputs": [
    {
     "name": "stdout",
     "output_type": "stream",
     "text": [
      "[{'start': '14435778', 'chr': '2L', 'summit': '14436334', 'end': '14436756', 'length': '978'}, {'start': '2710948', 'chr': '3R', 'summit': '2711224', 'end': '2711546', 'length': '598'}, {'start': '2683204', 'chr': '3R', 'summit': '2683520', 'end': '2684016', 'length': '812'}, {'start': '2009468', 'chr': '2R', 'summit': '2009623', 'end': '2010075', 'length': '607'}, {'start': '18943829', 'chr': '2L', 'summit': '18943979', 'end': '18944151', 'length': '322'}, {'start': '1036835', 'chr': '3R', 'summit': '1037491', 'end': '1038080', 'length': '1245'}, {'start': '11182767', 'chr': '3R', 'summit': '11182970', 'end': '11183194', 'length': '427'}, {'start': '2733802', 'chr': '3R', 'summit': '2733992', 'end': '2734207', 'length': '405'}, {'start': '24161215', 'chr': '3R', 'summit': '24161554', 'end': '24161763', 'length': '548'}, {'start': '9447696', 'chr': '2R', 'summit': '9448603', 'end': '9450212', 'length': '2516'}, {'start': '21104908', 'chr': '2L', 'summit': '21105356', 'end': '21105563', 'length': '655'}, {'start': '802499', 'chr': '3R', 'summit': '802712', 'end': '802907', 'length': '408'}, {'start': '12076300', 'chr': '3R', 'summit': '12076422', 'end': '12076658', 'length': '358'}, {'start': '11972256', 'chr': '3R', 'summit': '11972437', 'end': '11972840', 'length': '584'}, {'start': '12629717', 'chr': 'X', 'summit': '12630083', 'end': '12630293', 'length': '576'}, {'start': '8189528', 'chr': 'X', 'summit': '8189748', 'end': '8189906', 'length': '378'}, {'start': '14445439', 'chr': '3L', 'summit': '14445957', 'end': '14446158', 'length': '719'}, {'start': '18970983', 'chr': '2R', 'summit': '18971176', 'end': '18971408', 'length': '425'}, {'start': '5381312', 'chr': '3R', 'summit': '5381498', 'end': '5381743', 'length': '431'}, {'start': '19553952', 'chr': '3L', 'summit': '19554149', 'end': '19554401', 'length': '449'}, {'start': '9705279', 'chr': '2L', 'summit': '9705475', 'end': '9705689', 'length': '410'}, {'start': '8471317', 'chr': '3R', 'summit': '8471631', 'end': '8471833', 'length': '516'}, {'start': '2107748', 'chr': '2R', 'summit': '2107941', 'end': '2108162', 'length': '414'}, {'start': '1429653', 'chr': '2L', 'summit': '1429825', 'end': '1429970', 'length': '317'}, {'start': '7180217', 'chr': 'X', 'summit': '7180335', 'end': '7180977', 'length': '760'}, {'start': '16484000', 'chr': '3L', 'summit': '16484238', 'end': '16484483', 'length': '483'}, {'start': '12672542', 'chr': '2R', 'summit': '12672663', 'end': '12672908', 'length': '366'}, {'start': '2742448', 'chr': '3R', 'summit': '2742623', 'end': '2742844', 'length': '396'}, {'start': '8835144', 'chr': '2R', 'summit': '8835344', 'end': '8835629', 'length': '485'}, {'start': '16018062', 'chr': '3L', 'summit': '16018812', 'end': '16019297', 'length': '1235'}, {'start': '12819525', 'chr': 'X', 'summit': '12819739', 'end': '12820442', 'length': '917'}, {'start': '7228595', 'chr': '3R', 'summit': '7228776', 'end': '7228891', 'length': '296'}, {'start': '18815357', 'chr': '3L', 'summit': '18815620', 'end': '18815901', 'length': '544'}, {'start': '9119015', 'chr': '3R', 'summit': '9119132', 'end': '9119660', 'length': '645'}, {'start': '4468434', 'chr': '3R', 'summit': '4468583', 'end': '4468783', 'length': '349'}, {'start': '7782693', 'chr': 'X', 'summit': '7782817', 'end': '7782936', 'length': '243'}, {'start': '17467873', 'chr': '3R', 'summit': '17468034', 'end': '17468184', 'length': '311'}, {'start': '2880238', 'chr': '3L', 'summit': '2880455', 'end': '2880699', 'length': '461'}, {'start': '19192662', 'chr': 'X', 'summit': '19192858', 'end': '19193046', 'length': '384'}, {'start': '20997717', 'chr': '3R', 'summit': '20997801', 'end': '20998426', 'length': '709'}, {'start': '7681365', 'chr': '2R', 'summit': '7681864', 'end': '7682170', 'length': '805'}, {'start': '298493', 'chr': '3L', 'summit': '298793', 'end': '298957', 'length': '464'}, {'start': '26101626', 'chr': '3R', 'summit': '26101854', 'end': '26102205', 'length': '579'}, {'start': '9146519', 'chr': '2L', 'summit': '9146722', 'end': '9146878', 'length': '359'}, {'start': '8663061', 'chr': '3L', 'summit': '8663180', 'end': '8665024', 'length': '1963'}, {'start': '8165971', 'chr': '2L', 'summit': '8166284', 'end': '8166463', 'length': '492'}, {'start': '291810', 'chr': '3L', 'summit': '291972', 'end': '292349', 'length': '539'}, {'start': '228528', 'chr': '3R', 'summit': '228762', 'end': '228893', 'length': '365'}, {'start': '16935653', 'chr': '2R', 'summit': '16935913', 'end': '16936062', 'length': '409'}, {'start': '5778906', 'chr': '2R', 'summit': '5779069', 'end': '5779232', 'length': '326'}, {'start': '2693516', 'chr': '3R', 'summit': '2693726', 'end': '2694570', 'length': '1054'}, {'start': '864305', 'chr': '3R', 'summit': '864702', 'end': '865264', 'length': '959'}, {'start': '1335183', 'chr': '3L', 'summit': '1335461', 'end': '1335666', 'length': '483'}, {'start': '19532935', 'chr': '2R', 'summit': '19533450', 'end': '19533864', 'length': '929'}, {'start': '10323735', 'chr': '3L', 'summit': '10324112', 'end': '10324371', 'length': '636'}, {'start': '24412012', 'chr': '3R', 'summit': '24412183', 'end': '24412369', 'length': '357'}, {'start': '11479509', 'chr': '3R', 'summit': '11479670', 'end': '11480158', 'length': '649'}, {'start': '4940875', 'chr': 'X', 'summit': '4941057', 'end': '4941381', 'length': '506'}, {'start': '4253117', 'chr': '3L', 'summit': '4253272', 'end': '4253468', 'length': '351'}, {'start': '19989023', 'chr': '3R', 'summit': '19989259', 'end': '19989595', 'length': '572'}, {'start': '11911284', 'chr': '3L', 'summit': '11911474', 'end': '11911676', 'length': '392'}, {'start': '17235523', 'chr': '3L', 'summit': '17235685', 'end': '17235917', 'length': '394'}, {'start': '4368507', 'chr': '2L', 'summit': '4368682', 'end': '4368969', 'length': '462'}, {'start': '7586517', 'chr': '3R', 'summit': '7586680', 'end': '7586811', 'length': '294'}, {'start': '6881208', 'chr': 'X', 'summit': '6881383', 'end': '6881627', 'length': '419'}, {'start': '13219991', 'chr': '3R', 'summit': '13220324', 'end': '13220576', 'length': '585'}, {'start': '11813981', 'chr': '3R', 'summit': '11814279', 'end': '11814440', 'length': '459'}, {'start': '24457364', 'chr': '3R', 'summit': '24457576', 'end': '24457773', 'length': '409'}, {'start': '2414275', 'chr': '2R', 'summit': '2414476', 'end': '2414669', 'length': '394'}, {'start': '10356508', 'chr': '2L', 'summit': '10356677', 'end': '10356984', 'length': '476'}, {'start': '16214172', 'chr': 'X', 'summit': '16214452', 'end': '16214699', 'length': '527'}, {'start': '5793953', 'chr': 'X', 'summit': '5794093', 'end': '5794442', 'length': '489'}, {'start': '7680640', 'chr': '2R', 'summit': '7680766', 'end': '7680903', 'length': '263'}, {'start': '14445525', 'chr': '2L', 'summit': '14445721', 'end': '14446058', 'length': '533'}, {'start': '9032389', 'chr': '3L', 'summit': '9032585', 'end': '9032707', 'length': '318'}, {'start': '13651797', 'chr': '3R', 'summit': '13652128', 'end': '13652443', 'length': '646'}, {'start': '3078509', 'chr': '2L', 'summit': '3078848', 'end': '3079154', 'length': '645'}, {'start': '6943184', 'chr': 'X', 'summit': '6943312', 'end': '6943482', 'length': '298'}, {'start': '19219696', 'chr': '2L', 'summit': '19219884', 'end': '19220607', 'length': '911'}, {'start': '6647269', 'chr': '2L', 'summit': '6647795', 'end': '6647969', 'length': '700'}, {'start': '23332239', 'chr': '3L', 'summit': '23332421', 'end': '23332727', 'length': '488'}, {'start': '7125083', 'chr': '2R', 'summit': '7125277', 'end': '7125536', 'length': '453'}, {'start': '14245093', 'chr': '2R', 'summit': '14245213', 'end': '14245336', 'length': '243'}, {'start': '16477005', 'chr': '3L', 'summit': '16477100', 'end': '16477403', 'length': '398'}, {'start': '9441520', 'chr': '2R', 'summit': '9441792', 'end': '9442010', 'length': '490'}, {'start': '13442290', 'chr': '3R', 'summit': '13442449', 'end': '13442686', 'length': '396'}, {'start': '89175', 'chr': '2L', 'summit': '89465', 'end': '89880', 'length': '705'}, {'start': '27078130', 'chr': '3R', 'summit': '27078383', 'end': '27078636', 'length': '506'}, {'start': '15180540', 'chr': '2R', 'summit': '15180686', 'end': '15180923', 'length': '383'}, {'start': '2934380', 'chr': '3R', 'summit': '2934961', 'end': '2935203', 'length': '823'}, {'start': '4709705', 'chr': '3L', 'summit': '4709908', 'end': '4710099', 'length': '394'}, {'start': '13780205', 'chr': '2R', 'summit': '13780677', 'end': '13780912', 'length': '707'}, {'start': '16285986', 'chr': '2L', 'summit': '16286133', 'end': '16286295', 'length': '309'}, {'start': '21003992', 'chr': '3L', 'summit': '21004299', 'end': '21004425', 'length': '433'}, {'start': '21834073', 'chr': '3L', 'summit': '21834212', 'end': '21834536', 'length': '463'}, {'start': '27044306', 'chr': '3R', 'summit': '27044937', 'end': '27045557', 'length': '1251'}, {'start': '15228303', 'chr': '3L', 'summit': '15228500', 'end': '15228618', 'length': '315'}, {'start': '2813648', 'chr': '3R', 'summit': '2813982', 'end': '2814117', 'length': '469'}, {'start': '15333291', 'chr': '2L', 'summit': '15333471', 'end': '15333846', 'length': '555'}, {'start': '1794387', 'chr': '3L', 'summit': '1794582', 'end': '1794952', 'length': '565'}, {'start': '18693476', 'chr': 'X', 'summit': '18693677', 'end': '18693973', 'length': '497'}, {'start': '20650464', 'chr': '2R', 'summit': '20650599', 'end': '20650738', 'length': '274'}, {'start': '22393005', 'chr': '3L', 'summit': '22393669', 'end': '22393985', 'length': '980'}, {'start': '10850033', 'chr': '2L', 'summit': '10850363', 'end': '10850632', 'length': '599'}, {'start': '22156480', 'chr': '3L', 'summit': '22157056', 'end': '22157172', 'length': '692'}, {'start': '6373025', 'chr': '2L', 'summit': '6373292', 'end': '6373476', 'length': '451'}, {'start': '10978700', 'chr': '3L', 'summit': '10978873', 'end': '10979193', 'length': '493'}, {'start': '9370663', 'chr': '2R', 'summit': '9370858', 'end': '9371043', 'length': '380'}, {'start': '20509981', 'chr': '3L', 'summit': '20510425', 'end': '20510733', 'length': '752'}, {'start': '15540780', 'chr': 'X', 'summit': '15541003', 'end': '15541689', 'length': '909'}, {'start': '18690899', 'chr': 'X', 'summit': '18691025', 'end': '18691144', 'length': '245'}, {'start': '278191', 'chr': '3R', 'summit': '278335', 'end': '278537', 'length': '346'}, {'start': '6760267', 'chr': '3L', 'summit': '6760490', 'end': '6760661', 'length': '394'}, {'start': '488333', 'chr': '3R', 'summit': '488617', 'end': '488957', 'length': '624'}, {'start': '12670461', 'chr': '3L', 'summit': '12670630', 'end': '12670823', 'length': '362'}, {'start': '4113871', 'chr': '2R', 'summit': '4114041', 'end': '4114281', 'length': '410'}, {'start': '27761648', 'chr': '3R', 'summit': '27761816', 'end': '27761986', 'length': '338'}, {'start': '1411299', 'chr': '2L', 'summit': '1411541', 'end': '1412287', 'length': '988'}, {'start': '6489113', 'chr': '3L', 'summit': '6489234', 'end': '6489575', 'length': '462'}, {'start': '6806675', 'chr': '3L', 'summit': '6806831', 'end': '6807048', 'length': '373'}, {'start': '9888340', 'chr': '2R', 'summit': '9888510', 'end': '9888642', 'length': '302'}, {'start': '7130963', 'chr': '3L', 'summit': '7131139', 'end': '7131712', 'length': '749'}, {'start': '871014', 'chr': '2L', 'summit': '871123', 'end': '871600', 'length': '586'}, {'start': '9049725', 'chr': 'X', 'summit': '9049911', 'end': '9050097', 'length': '372'}, {'start': '21110285', 'chr': '2R', 'summit': '21110451', 'end': '21111001', 'length': '716'}, {'start': '14141253', 'chr': 'X', 'summit': '14141586', 'end': '14141797', 'length': '544'}, {'start': '7306595', 'chr': '2L', 'summit': '7306788', 'end': '7307044', 'length': '449'}, {'start': '20732293', 'chr': '2R', 'summit': '20732470', 'end': '20732820', 'length': '527'}, {'start': '11350022', 'chr': '3L', 'summit': '11350592', 'end': '11350758', 'length': '736'}, {'start': '8822472', 'chr': '3L', 'summit': '8822702', 'end': '8823013', 'length': '541'}, {'start': '4133674', 'chr': '2R', 'summit': '4133863', 'end': '4134131', 'length': '457'}, {'start': '8826135', 'chr': '3L', 'summit': '8826430', 'end': '8826708', 'length': '573'}, {'start': '9394946', 'chr': '2R', 'summit': '9395072', 'end': '9395235', 'length': '289'}, {'start': '17740421', 'chr': '2L', 'summit': '17740723', 'end': '17740857', 'length': '436'}, {'start': '14064759', 'chr': '3L', 'summit': '14064914', 'end': '14065061', 'length': '302'}, {'start': '2617101', 'chr': '3R', 'summit': '2617263', 'end': '2617572', 'length': '471'}, {'start': '15255034', 'chr': '3L', 'summit': '15255239', 'end': '15255762', 'length': '728'}, {'start': '2633758', 'chr': '2R', 'summit': '2633930', 'end': '2634094', 'length': '336'}, {'start': '14979995', 'chr': 'X', 'summit': '14980397', 'end': '14980545', 'length': '550'}, {'start': '6880495', 'chr': 'X', 'summit': '6880606', 'end': '6880727', 'length': '232'}, {'start': '1961914', 'chr': '2L', 'summit': '1962115', 'end': '1962385', 'length': '471'}, {'start': '6664909', 'chr': 'X', 'summit': '6665259', 'end': '6665460', 'length': '551'}, {'start': '1128801', 'chr': '3R', 'summit': '1128973', 'end': '1129147', 'length': '346'}, {'start': '17550579', 'chr': '3L', 'summit': '17550709', 'end': '17550959', 'length': '380'}, {'start': '14166147', 'chr': '3L', 'summit': '14166400', 'end': '14166745', 'length': '598'}, {'start': '4367705', 'chr': '2L', 'summit': '4368081', 'end': '4368447', 'length': '742'}, {'start': '11452470', 'chr': '2L', 'summit': '11452758', 'end': '11453491', 'length': '1021'}, {'start': '9453149', 'chr': '2R', 'summit': '9453364', 'end': '9453777', 'length': '628'}, {'start': '14269248', 'chr': '3L', 'summit': '14269494', 'end': '14269638', 'length': '390'}, {'start': '13020430', 'chr': '3L', 'summit': '13020614', 'end': '13020799', 'length': '369'}, {'start': '9128688', 'chr': '2L', 'summit': '9128835', 'end': '9129093', 'length': '405'}, {'start': '18008237', 'chr': '3L', 'summit': '18008420', 'end': '18008562', 'length': '325'}, {'start': '5277349', 'chr': '2L', 'summit': '5277451', 'end': '5277701', 'length': '352'}, {'start': '8788448', 'chr': 'X', 'summit': '8788613', 'end': '8788767', 'length': '319'}, {'start': '16624247', 'chr': '3L', 'summit': '16624507', 'end': '16625136', 'length': '889'}, {'start': '5873219', 'chr': '2R', 'summit': '5873529', 'end': '5874715', 'length': '1496'}, {'start': '11825317', 'chr': '3L', 'summit': '11825638', 'end': '11825830', 'length': '513'}, {'start': '1109106', 'chr': 'X', 'summit': '1109310', 'end': '1109438', 'length': '332'}, {'start': '12574265', 'chr': '3R', 'summit': '12574357', 'end': '12574593', 'length': '328'}, {'start': '8868621', 'chr': '2R', 'summit': '8868729', 'end': '8868899', 'length': '278'}, {'start': '2197101', 'chr': '3L', 'summit': '2197266', 'end': '2197396', 'length': '295'}, {'start': '15478307', 'chr': '2L', 'summit': '15478440', 'end': '15478562', 'length': '255'}, {'start': '2869648', 'chr': '3R', 'summit': '2869806', 'end': '2870340', 'length': '692'}, {'start': '19866589', 'chr': '2L', 'summit': '19866779', 'end': '19867075', 'length': '486'}, {'start': '881671', 'chr': '3R', 'summit': '881838', 'end': '882025', 'length': '354'}, {'start': '12645583', 'chr': 'X', 'summit': '12645829', 'end': '12646265', 'length': '682'}, {'start': '14739429', 'chr': '3R', 'summit': '14739705', 'end': '14739888', 'length': '459'}, {'start': '19126865', 'chr': '3R', 'summit': '19126981', 'end': '19127217', 'length': '352'}, {'start': '15959698', 'chr': '2R', 'summit': '15960254', 'end': '15960485', 'length': '787'}, {'start': '13907138', 'chr': '3R', 'summit': '13907343', 'end': '13907646', 'length': '508'}, {'start': '1687764', 'chr': '3R', 'summit': '1687869', 'end': '1688093', 'length': '329'}, {'start': '19647683', 'chr': 'X', 'summit': '19647909', 'end': '19648275', 'length': '592'}, {'start': '6343524', 'chr': '2L', 'summit': '6343661', 'end': '6343965', 'length': '441'}, {'start': '16116824', 'chr': '3R', 'summit': '16116944', 'end': '16117122', 'length': '298'}, {'start': '264637', 'chr': '3L', 'summit': '264755', 'end': '264949', 'length': '312'}, {'start': '20989636', 'chr': '3R', 'summit': '20989803', 'end': '20989937', 'length': '301'}, {'start': '20798870', 'chr': '2L', 'summit': '20799213', 'end': '20799470', 'length': '600'}, {'start': '2456353', 'chr': '2L', 'summit': '2456551', 'end': '2457226', 'length': '873'}, {'start': '1553572', 'chr': '3R', 'summit': '1554026', 'end': '1554242', 'length': '670'}, {'start': '9583773', 'chr': 'X', 'summit': '9583996', 'end': '9584160', 'length': '387'}, {'start': '2518051', 'chr': '2R', 'summit': '2518330', 'end': '2518445', 'length': '394'}, {'start': '1497781', 'chr': '3R', 'summit': '1497958', 'end': '1498168', 'length': '387'}, {'start': '7839021', 'chr': 'X', 'summit': '7839187', 'end': '7839308', 'length': '287'}, {'start': '6452251', 'chr': '3R', 'summit': '6452688', 'end': '6452895', 'length': '644'}, {'start': '19154703', 'chr': '2L', 'summit': '19154964', 'end': '19155252', 'length': '549'}, {'start': '22467099', 'chr': '2L', 'summit': '22467360', 'end': '22467444', 'length': '345'}, {'start': '22151414', 'chr': '2L', 'summit': '22151619', 'end': '22151798', 'length': '384'}, {'start': '2460484', 'chr': '2R', 'summit': '2460981', 'end': '2461569', 'length': '1085'}, {'start': '475645', 'chr': '3R', 'summit': '475823', 'end': '475956', 'length': '311'}, {'start': '13904036', 'chr': '2L', 'summit': '13904510', 'end': '13904811', 'length': '775'}, {'start': '27434210', 'chr': '3R', 'summit': '27434390', 'end': '27434545', 'length': '335'}, {'start': '26389052', 'chr': '3R', 'summit': '26389377', 'end': '26389534', 'length': '482'}, {'start': '17251862', 'chr': '2R', 'summit': '17252088', 'end': '17252325', 'length': '463'}, {'start': '11242768', 'chr': 'X', 'summit': '11243001', 'end': '11243186', 'length': '418'}, {'start': '17548803', 'chr': '3L', 'summit': '17549032', 'end': '17549205', 'length': '402'}, {'start': '8453400', 'chr': '3R', 'summit': '8453503', 'end': '8453775', 'length': '375'}, {'start': '2498432', 'chr': '2R', 'summit': '2498582', 'end': '2498775', 'length': '343'}, {'start': '20123209', 'chr': '3R', 'summit': '20123390', 'end': '20123594', 'length': '385'}, {'start': '7044130', 'chr': '2L', 'summit': '7044213', 'end': '7044415', 'length': '285'}, {'start': '7820406', 'chr': '2L', 'summit': '7820561', 'end': '7820760', 'length': '354'}, {'start': '8342564', 'chr': '2R', 'summit': '8342773', 'end': '8342953', 'length': '389'}, {'start': '7952474', 'chr': 'X', 'summit': '7952597', 'end': '7952718', 'length': '244'}, {'start': '14444065', 'chr': '2L', 'summit': '14444226', 'end': '14444454', 'length': '389'}, {'start': '19680094', 'chr': 'X', 'summit': '19680265', 'end': '19681258', 'length': '1164'}, {'start': '22238195', 'chr': 'X', 'summit': '22238379', 'end': '22238634', 'length': '439'}, {'start': '15756460', 'chr': '3R', 'summit': '15756572', 'end': '15757378', 'length': '918'}, {'start': '7048574', 'chr': '2L', 'summit': '7048778', 'end': '7049437', 'length': '863'}, {'start': '14447832', 'chr': '3L', 'summit': '14448062', 'end': '14448128', 'length': '296'}, {'start': '19156996', 'chr': '2L', 'summit': '19157133', 'end': '19157407', 'length': '411'}, {'start': '7086453', 'chr': '2R', 'summit': '7086757', 'end': '7086929', 'length': '476'}, {'start': '17432491', 'chr': '3R', 'summit': '17432628', 'end': '17432816', 'length': '325'}, {'start': '2385263', 'chr': '3L', 'summit': '2385497', 'end': '2385958', 'length': '695'}, {'start': '24899727', 'chr': '3R', 'summit': '24899976', 'end': '24900427', 'length': '700'}, {'start': '2832541', 'chr': '3R', 'summit': '2832647', 'end': '2832798', 'length': '257'}, {'start': '15353158', 'chr': '2R', 'summit': '15353228', 'end': '15353448', 'length': '290'}, {'start': '16045709', 'chr': '3L', 'summit': '16045954', 'end': '16046093', 'length': '384'}, {'start': '8837987', 'chr': '3R', 'summit': '8838145', 'end': '8838268', 'length': '281'}, {'start': '21138891', 'chr': '3L', 'summit': '21139375', 'end': '21139522', 'length': '631'}, {'start': '10645485', 'chr': '3R', 'summit': '10645606', 'end': '10645779', 'length': '294'}, {'start': '20899803', 'chr': '2R', 'summit': '20899898', 'end': '20900066', 'length': '263'}, {'start': '4102368', 'chr': '3R', 'summit': '4102581', 'end': '4102702', 'length': '334'}, {'start': '11773879', 'chr': '2R', 'summit': '11774349', 'end': '11774525', 'length': '646'}, {'start': '22395486', 'chr': '3L', 'summit': '22395615', 'end': '22395800', 'length': '314'}, {'start': '16406013', 'chr': '2L', 'summit': '16406267', 'end': '16406561', 'length': '548'}, {'start': '16257426', 'chr': '2L', 'summit': '16257558', 'end': '16257783', 'length': '357'}, {'start': '4578584', 'chr': 'X', 'summit': '4578787', 'end': '4578887', 'length': '303'}, {'start': '20145658', 'chr': '3R', 'summit': '20145919', 'end': '20146058', 'length': '400'}, {'start': '2549188', 'chr': '3R', 'summit': '2549346', 'end': '2549554', 'length': '366'}, {'start': '19460526', 'chr': '2R', 'summit': '19461374', 'end': '19461551', 'length': '1025'}, {'start': '11171152', 'chr': '3R', 'summit': '11171313', 'end': '11171460', 'length': '308'}, {'start': '15324481', 'chr': '2L', 'summit': '15324720', 'end': '15324887', 'length': '406'}, {'start': '123674', 'chr': '3L', 'summit': '123858', 'end': '124342', 'length': '668'}, {'start': '3013194', 'chr': '3R', 'summit': '3013323', 'end': '3013491', 'length': '297'}, {'start': '20938426', 'chr': '2R', 'summit': '20938602', 'end': '20938816', 'length': '390'}, {'start': '6751636', 'chr': 'X', 'summit': '6751845', 'end': '6752239', 'length': '603'}, {'start': '4129520', 'chr': '2R', 'summit': '4129620', 'end': '4129726', 'length': '206'}, {'start': '2482927', 'chr': '3L', 'summit': '2483134', 'end': '2483403', 'length': '476'}, {'start': '1307001', 'chr': '3L', 'summit': '1307136', 'end': '1307633', 'length': '632'}, {'start': '12466471', 'chr': '2L', 'summit': '12466584', 'end': '12466872', 'length': '401'}, {'start': '9023452', 'chr': 'X', 'summit': '9023646', 'end': '9023786', 'length': '334'}, {'start': '19548198', 'chr': '2L', 'summit': '19548392', 'end': '19548548', 'length': '350'}, {'start': '14270805', 'chr': '3L', 'summit': '14270960', 'end': '14271087', 'length': '282'}, {'start': '5410160', 'chr': '2L', 'summit': '5410458', 'end': '5410749', 'length': '589'}, {'start': '11787249', 'chr': '2R', 'summit': '11787516', 'end': '11787711', 'length': '462'}, {'start': '7682813', 'chr': '2R', 'summit': '7683040', 'end': '7683262', 'length': '449'}, {'start': '1479127', 'chr': '3L', 'summit': '1479307', 'end': '1479766', 'length': '639'}, {'start': '7454330', 'chr': '2R', 'summit': '7454504', 'end': '7454753', 'length': '423'}, {'start': '12794211', 'chr': '3R', 'summit': '12794453', 'end': '12794600', 'length': '389'}, {'start': '16350036', 'chr': '2L', 'summit': '16350109', 'end': '16350239', 'length': '203'}, {'start': '13865842', 'chr': '2L', 'summit': '13865887', 'end': '13865999', 'length': '157'}, {'start': '481811', 'chr': '2R', 'summit': '482015', 'end': '482109', 'length': '298'}, {'start': '19892354', 'chr': '3L', 'summit': '19892483', 'end': '19892800', 'length': '446'}, {'start': '6882932', 'chr': 'X', 'summit': '6883211', 'end': '6883420', 'length': '488'}, {'start': '15681326', 'chr': '3L', 'summit': '15681587', 'end': '15681725', 'length': '399'}, {'start': '14957770', 'chr': '3L', 'summit': '14958315', 'end': '14958418', 'length': '648'}, {'start': '19575903', 'chr': '2L', 'summit': '19576005', 'end': '19576208', 'length': '305'}, {'start': '753347', 'chr': '3L', 'summit': '753606', 'end': '753841', 'length': '494'}, {'start': '17122860', 'chr': '3R', 'summit': '17122959', 'end': '17123076', 'length': '216'}, {'start': '689620', 'chr': '3R', 'summit': '689843', 'end': '689956', 'length': '336'}, {'start': '15162767', 'chr': '2R', 'summit': '15162967', 'end': '15163226', 'length': '459'}, {'start': '4024553', 'chr': '3R', 'summit': '4024684', 'end': '4024938', 'length': '385'}, {'start': '6442489', 'chr': '3R', 'summit': '6442663', 'end': '6443792', 'length': '1303'}, {'start': '6048106', 'chr': '3R', 'summit': '6048183', 'end': '6048426', 'length': '320'}, {'start': '5757184', 'chr': '2L', 'summit': '5757314', 'end': '5757405', 'length': '221'}, {'start': '12395874', 'chr': '3R', 'summit': '12396188', 'end': '12396330', 'length': '456'}, {'start': '13392205', 'chr': '3L', 'summit': '13392306', 'end': '13392735', 'length': '530'}, {'start': '2054185', 'chr': '2R', 'summit': '2054312', 'end': '2054533', 'length': '348'}, {'start': '21847663', 'chr': '2L', 'summit': '21847989', 'end': '21848095', 'length': '432'}, {'start': '4823680', 'chr': '2L', 'summit': '4824141', 'end': '4824273', 'length': '593'}, {'start': '16765888', 'chr': '3L', 'summit': '16766125', 'end': '16766630', 'length': '742'}, {'start': '8476628', 'chr': '2R', 'summit': '8476996', 'end': '8477395', 'length': '767'}, {'start': '11015332', 'chr': '2R', 'summit': '11015503', 'end': '11015712', 'length': '380'}, {'start': '13282040', 'chr': '2R', 'summit': '13282145', 'end': '13282291', 'length': '251'}, {'start': '6972973', 'chr': '3L', 'summit': '6973225', 'end': '6973433', 'length': '460'}, {'start': '22024384', 'chr': '2L', 'summit': '22024520', 'end': '22024758', 'length': '374'}, {'start': '13191105', 'chr': '2L', 'summit': '13191226', 'end': '13191528', 'length': '423'}, {'start': '16118580', 'chr': '3R', 'summit': '16118964', 'end': '16119137', 'length': '557'}, {'start': '7624360', 'chr': '2L', 'summit': '7624566', 'end': '7624787', 'length': '427'}, {'start': '9672129', 'chr': '3L', 'summit': '9672331', 'end': '9672418', 'length': '289'}, {'start': '10696021', 'chr': 'X', 'summit': '10696483', 'end': '10696656', 'length': '635'}, {'start': '19338238', 'chr': '2L', 'summit': '19338425', 'end': '19338741', 'length': '503'}, {'start': '8903926', 'chr': '3R', 'summit': '8904074', 'end': '8904259', 'length': '333'}, {'start': '7824058', 'chr': '3R', 'summit': '7824212', 'end': '7824370', 'length': '312'}, {'start': '12468647', 'chr': 'X', 'summit': '12469100', 'end': '12469205', 'length': '558'}, {'start': '6469129', 'chr': '2R', 'summit': '6469439', 'end': '6469703', 'length': '574'}, {'start': '20574770', 'chr': '3R', 'summit': '20574989', 'end': '20575632', 'length': '862'}, {'start': '2581206', 'chr': '3R', 'summit': '2581363', 'end': '2581581', 'length': '375'}, {'start': '12898314', 'chr': '3R', 'summit': '12898425', 'end': '12898551', 'length': '237'}, {'start': '679', 'chr': '3R', 'summit': '1054', 'end': '1188', 'length': '509'}, {'start': '17989429', 'chr': '3R', 'summit': '17989605', 'end': '17989777', 'length': '348'}, {'start': '4118994', 'chr': '3L', 'summit': '4119371', 'end': '4119508', 'length': '514'}, {'start': '1549026', 'chr': '3R', 'summit': '1549095', 'end': '1549444', 'length': '418'}, {'start': '14606366', 'chr': '3L', 'summit': '14606625', 'end': '14606752', 'length': '386'}, {'start': '14636927', 'chr': '3L', 'summit': '14637065', 'end': '14637228', 'length': '301'}, {'start': '11824373', 'chr': '3L', 'summit': '11824483', 'end': '11824626', 'length': '253'}, {'start': '16654728', 'chr': '3R', 'summit': '16655018', 'end': '16655172', 'length': '444'}, {'start': '22129980', 'chr': '2L', 'summit': '22130211', 'end': '22130359', 'length': '379'}, {'start': '4167737', 'chr': '3L', 'summit': '4167860', 'end': '4167994', 'length': '257'}, {'start': '12589749', 'chr': '3R', 'summit': '12589872', 'end': '12590214', 'length': '465'}, {'start': '9790203', 'chr': '3L', 'summit': '9790330', 'end': '9790445', 'length': '242'}, {'start': '19075917', 'chr': '3L', 'summit': '19076509', 'end': '19076689', 'length': '772'}, {'start': '17319694', 'chr': '3R', 'summit': '17319810', 'end': '17319931', 'length': '237'}, {'start': '716510', 'chr': '2R', 'summit': '716633', 'end': '716873', 'length': '363'}, {'start': '11216320', 'chr': 'X', 'summit': '11216414', 'end': '11217602', 'length': '1282'}, {'start': '951219', 'chr': '3R', 'summit': '951327', 'end': '951473', 'length': '254'}, {'start': '9707339', 'chr': '3L', 'summit': '9707530', 'end': '9707643', 'length': '304'}, {'start': '13150926', 'chr': 'X', 'summit': '13151159', 'end': '13151299', 'length': '373'}, {'start': '14635287', 'chr': '3L', 'summit': '14635495', 'end': '14635787', 'length': '500'}, {'start': '15731849', 'chr': '2L', 'summit': '15732198', 'end': '15732535', 'length': '686'}, {'start': '12472590', 'chr': '2L', 'summit': '12472784', 'end': '12472920', 'length': '330'}, {'start': '15170982', 'chr': '3R', 'summit': '15171168', 'end': '15171347', 'length': '365'}, {'start': '271499', 'chr': 'X', 'summit': '271631', 'end': '271771', 'length': '272'}, {'start': '7954318', 'chr': '3R', 'summit': '7954526', 'end': '7954634', 'length': '316'}, {'start': '248671', 'chr': '2L', 'summit': '248842', 'end': '249008', 'length': '337'}, {'start': '431949', 'chr': '2R', 'summit': '432096', 'end': '432277', 'length': '328'}, {'start': '16563617', 'chr': '3L', 'summit': '16563720', 'end': '16563946', 'length': '329'}, {'start': '6731447', 'chr': '2R', 'summit': '6731550', 'end': '6732358', 'length': '911'}, {'start': '7010486', 'chr': '2L', 'summit': '7010670', 'end': '7010936', 'length': '450'}, {'start': '18615875', 'chr': '2L', 'summit': '18615996', 'end': '18616573', 'length': '698'}, {'start': '170121', 'chr': '3R', 'summit': '170225', 'end': '170434', 'length': '313'}, {'start': '4679639', 'chr': '3L', 'summit': '4679909', 'end': '4680046', 'length': '407'}, {'start': '8809870', 'chr': '2L', 'summit': '8809983', 'end': '8810191', 'length': '321'}, {'start': '19791561', 'chr': 'X', 'summit': '19791684', 'end': '19791844', 'length': '283'}, {'start': '12427545', 'chr': '3L', 'summit': '12427645', 'end': '12427791', 'length': '246'}, {'start': '7584644', 'chr': '3R', 'summit': '7584795', 'end': '7585060', 'length': '416'}, {'start': '14193381', 'chr': '2R', 'summit': '14193870', 'end': '14194051', 'length': '670'}, {'start': '11643752', 'chr': '2R', 'summit': '11643878', 'end': '11644598', 'length': '846'}, {'start': '20758355', 'chr': '2L', 'summit': '20758762', 'end': '20758941', 'length': '586'}, {'start': '9401300', 'chr': '2R', 'summit': '9401415', 'end': '9401616', 'length': '316'}, {'start': '10477972', 'chr': '3R', 'summit': '10478514', 'end': '10478627', 'length': '655'}, {'start': '4645272', 'chr': '3R', 'summit': '4645427', 'end': '4645571', 'length': '299'}, {'start': '18933546', 'chr': '2R', 'summit': '18933725', 'end': '18933852', 'length': '306'}, {'start': '539376', 'chr': '3L', 'summit': '539508', 'end': '539745', 'length': '369'}, {'start': '11627407', 'chr': '2R', 'summit': '11627553', 'end': '11627807', 'length': '400'}, {'start': '7138447', 'chr': '2L', 'summit': '7138579', 'end': '7138916', 'length': '469'}, {'start': '374624', 'chr': '3L', 'summit': '374823', 'end': '375276', 'length': '652'}, {'start': '12557168', 'chr': '3R', 'summit': '12557286', 'end': '12557544', 'length': '376'}, {'start': '3409837', 'chr': '3L', 'summit': '3410103', 'end': '3410211', 'length': '374'}, {'start': '1342282', 'chr': '3L', 'summit': '1342440', 'end': '1342547', 'length': '265'}, {'start': '8767621', 'chr': '2R', 'summit': '8767716', 'end': '8767875', 'length': '254'}, {'start': '19161087', 'chr': '2L', 'summit': '19161396', 'end': '19161700', 'length': '613'}, {'start': '8065935', 'chr': '2R', 'summit': '8066043', 'end': '8066169', 'length': '234'}, {'start': '20122841', 'chr': 'X', 'summit': '20122965', 'end': '20123502', 'length': '661'}, {'start': '8416228', 'chr': '2R', 'summit': '8416339', 'end': '8416539', 'length': '311'}, {'start': '13236808', 'chr': '3L', 'summit': '13236922', 'end': '13237112', 'length': '304'}, {'start': '14690140', 'chr': '2R', 'summit': '14690257', 'end': '14690666', 'length': '526'}, {'start': '18195125', 'chr': 'X', 'summit': '18195273', 'end': '18195352', 'length': '227'}, {'start': '9102025', 'chr': '2R', 'summit': '9102176', 'end': '9102355', 'length': '330'}, {'start': '409083', 'chr': '3R', 'summit': '409432', 'end': '409681', 'length': '598'}, {'start': '20692858', 'chr': '3L', 'summit': '20693378', 'end': '20693482', 'length': '624'}, {'start': '18737260', 'chr': '2L', 'summit': '18737384', 'end': '18737535', 'length': '275'}, {'start': '19164493', 'chr': '2L', 'summit': '19164625', 'end': '19165008', 'length': '515'}, {'start': '21558416', 'chr': '2L', 'summit': '21558678', 'end': '21558886', 'length': '470'}, {'start': '9448669', 'chr': '2L', 'summit': '9449124', 'end': '9449408', 'length': '739'}, {'start': '5754264', 'chr': '3R', 'summit': '5754366', 'end': '5754532', 'length': '268'}, {'start': '21463016', 'chr': '3R', 'summit': '21463122', 'end': '21463252', 'length': '236'}, {'start': '17433683', 'chr': '2R', 'summit': '17433808', 'end': '17433919', 'length': '236'}, {'start': '13640652', 'chr': '2R', 'summit': '13640788', 'end': '13641236', 'length': '584'}, {'start': '1377515', 'chr': 'X', 'summit': '1377647', 'end': '1377800', 'length': '285'}, {'start': '20918240', 'chr': '2L', 'summit': '20918412', 'end': '20918539', 'length': '299'}, {'start': '2035979', 'chr': 'X', 'summit': '2036274', 'end': '2036542', 'length': '563'}, {'start': '5436786', 'chr': '3R', 'summit': '5436876', 'end': '5437025', 'length': '239'}, {'start': '229073', 'chr': '3R', 'summit': '229213', 'end': '229568', 'length': '495'}, {'start': '6076212', 'chr': '2L', 'summit': '6076308', 'end': '6076457', 'length': '245'}, {'start': '9777054', 'chr': '3L', 'summit': '9777277', 'end': '9777393', 'length': '339'}, {'start': '19659907', 'chr': 'X', 'summit': '19660034', 'end': '19660224', 'length': '317'}, {'start': '762683', 'chr': '3L', 'summit': '762841', 'end': '762975', 'length': '292'}, {'start': '19555171', 'chr': '3L', 'summit': '19555287', 'end': '19555639', 'length': '468'}, {'start': '15364626', 'chr': '2R', 'summit': '15364731', 'end': '15364821', 'length': '195'}, {'start': '12402400', 'chr': '2R', 'summit': '12402546', 'end': '12402726', 'length': '326'}, {'start': '4086365', 'chr': '3L', 'summit': '4086480', 'end': '4086616', 'length': '251'}, {'start': '2643647', 'chr': '3R', 'summit': '2643725', 'end': '2644060', 'length': '413'}, {'start': '13121528', 'chr': 'X', 'summit': '13121611', 'end': '13121862', 'length': '334'}, {'start': '19465209', 'chr': '2R', 'summit': '19465306', 'end': '19465443', 'length': '234'}, {'start': '8388785', 'chr': '3L', 'summit': '8389008', 'end': '8389298', 'length': '513'}, {'start': '19890975', 'chr': '3L', 'summit': '19891291', 'end': '19891434', 'length': '459'}, {'start': '15922870', 'chr': '2R', 'summit': '15922984', 'end': '15923192', 'length': '322'}, {'start': '13037349', 'chr': 'X', 'summit': '13037460', 'end': '13037587', 'length': '238'}, {'start': '1038293', 'chr': '3R', 'summit': '1038392', 'end': '1038729', 'length': '436'}, {'start': '7045674', 'chr': '3R', 'summit': '7045846', 'end': '7045952', 'length': '278'}, {'start': '20467368', 'chr': '3L', 'summit': '20467547', 'end': '20467657', 'length': '289'}, {'start': '10310143', 'chr': '3R', 'summit': '10310254', 'end': '10310456', 'length': '313'}, {'start': '24912639', 'chr': '3R', 'summit': '24912760', 'end': '24913004', 'length': '365'}, {'start': '2013905', 'chr': '2L', 'summit': '2014027', 'end': '2014227', 'length': '322'}, {'start': '13283082', 'chr': '2R', 'summit': '13283273', 'end': '13283411', 'length': '329'}, {'start': '18824740', 'chr': '2R', 'summit': '18824845', 'end': '18825050', 'length': '310'}, {'start': '17254750', 'chr': '2R', 'summit': '17254968', 'end': '17255271', 'length': '521'}, {'start': '10987130', 'chr': '2R', 'summit': '10987399', 'end': '10987549', 'length': '419'}, {'start': '12079943', 'chr': '2L', 'summit': '12080182', 'end': '12080302', 'length': '359'}, {'start': '7905350', 'chr': '3L', 'summit': '7905541', 'end': '7905643', 'length': '293'}, {'start': '2599472', 'chr': '3L', 'summit': '2599608', 'end': '2599707', 'length': '235'}, {'start': '4031785', 'chr': '2L', 'summit': '4032006', 'end': '4032142', 'length': '357'}, {'start': '3938696', 'chr': '2R', 'summit': '3938885', 'end': '3939023', 'length': '327'}, {'start': '8060378', 'chr': '2R', 'summit': '8060478', 'end': '8060650', 'length': '272'}, {'start': '12087539', 'chr': '2L', 'summit': '12087677', 'end': '12087894', 'length': '355'}, {'start': '16428363', 'chr': '2R', 'summit': '16428503', 'end': '16428674', 'length': '311'}, {'start': '16857935', 'chr': '2L', 'summit': '16858155', 'end': '16858295', 'length': '360'}, {'start': '16485858', 'chr': '2L', 'summit': '16486157', 'end': '16486380', 'length': '522'}, {'start': '14960962', 'chr': '3L', 'summit': '14961531', 'end': '14961661', 'length': '699'}, {'start': '26212444', 'chr': '3R', 'summit': '26212596', 'end': '26212851', 'length': '407'}, {'start': '17222071', 'chr': '2L', 'summit': '17222227', 'end': '17222647', 'length': '576'}, {'start': '2988107', 'chr': '3R', 'summit': '2988386', 'end': '2988608', 'length': '501'}, {'start': '15485490', 'chr': '2L', 'summit': '15485708', 'end': '15485956', 'length': '466'}, {'start': '12011548', 'chr': '2L', 'summit': '12011821', 'end': '12012140', 'length': '592'}, {'start': '14484889', 'chr': '2L', 'summit': '14485222', 'end': '14485428', 'length': '539'}, {'start': '11785429', 'chr': '2R', 'summit': '11785708', 'end': '11786080', 'length': '651'}, {'start': '19165914', 'chr': '2L', 'summit': '19166188', 'end': '19166455', 'length': '541'}, {'start': '2912441', 'chr': '3R', 'summit': '2912629', 'end': '2912766', 'length': '325'}, {'start': '2438716', 'chr': '3L', 'summit': '2438878', 'end': '2439171', 'length': '455'}, {'start': '12628632', 'chr': '3R', 'summit': '12629146', 'end': '12629285', 'length': '653'}, {'start': '2164752', 'chr': '2L', 'summit': '2165248', 'end': '2165569', 'length': '817'}, {'start': '9022014', 'chr': '3L', 'summit': '9022446', 'end': '9023018', 'length': '1004'}, {'start': '5585397', 'chr': '3L', 'summit': '5585504', 'end': '5585718', 'length': '321'}, {'start': '16399595', 'chr': '3R', 'summit': '16399698', 'end': '16399935', 'length': '340'}, {'start': '19467940', 'chr': '2R', 'summit': '19468075', 'end': '19468180', 'length': '240'}, {'start': '27048357', 'chr': '3R', 'summit': '27048477', 'end': '27048802', 'length': '445'}, {'start': '4230015', 'chr': '3L', 'summit': '4230130', 'end': '4230351', 'length': '336'}, {'start': '939744', 'chr': '3R', 'summit': '939814', 'end': '940108', 'length': '364'}, {'start': '6425531', 'chr': '3R', 'summit': '6425791', 'end': '6426082', 'length': '551'}, {'start': '5849979', 'chr': '3L', 'summit': '5850066', 'end': '5850508', 'length': '529'}, {'start': '22945908', 'chr': '3L', 'summit': '22945986', 'end': '22946100', 'length': '192'}, {'start': '13228613', 'chr': '2L', 'summit': '13228830', 'end': '13228921', 'length': '308'}, {'start': '6471134', 'chr': '2R', 'summit': '6471229', 'end': '6471339', 'length': '205'}, {'start': '6527159', 'chr': '2L', 'summit': '6527376', 'end': '6527502', 'length': '343'}, {'start': '19029002', 'chr': '3L', 'summit': '19029191', 'end': '19029591', 'length': '589'}, {'start': '5294103', 'chr': '2R', 'summit': '5294412', 'end': '5294563', 'length': '460'}, {'start': '8165606', 'chr': 'X', 'summit': '8165729', 'end': '8165855', 'length': '249'}, {'start': '13605015', 'chr': '2R', 'summit': '13605343', 'end': '13605430', 'length': '415'}, {'start': '7419579', 'chr': '2R', 'summit': '7419997', 'end': '7420100', 'length': '521'}, {'start': '13062288', 'chr': '3L', 'summit': '13062412', 'end': '13062594', 'length': '306'}, {'start': '21000948', 'chr': '3L', 'summit': '21001022', 'end': '21001212', 'length': '264'}, {'start': '3916140', 'chr': '2R', 'summit': '3916310', 'end': '3916561', 'length': '421'}, {'start': '15696754', 'chr': '3L', 'summit': '15697017', 'end': '15697166', 'length': '412'}, {'start': '7585101', 'chr': '3R', 'summit': '7585224', 'end': '7585422', 'length': '321'}, {'start': '19784895', 'chr': '3L', 'summit': '19785082', 'end': '19785180', 'length': '285'}, {'start': '3149064', 'chr': '3L', 'summit': '3149254', 'end': '3149611', 'length': '547'}, {'start': '9454889', 'chr': '3L', 'summit': '9454945', 'end': '9455701', 'length': '812'}, {'start': '4757409', 'chr': '3L', 'summit': '4757499', 'end': '4757707', 'length': '298'}, {'start': '3319426', 'chr': '3L', 'summit': '3319493', 'end': '3319849', 'length': '423'}, {'start': '8995764', 'chr': '3L', 'summit': '8995863', 'end': '8996239', 'length': '475'}, {'start': '10412775', 'chr': '3R', 'summit': '10412986', 'end': '10413112', 'length': '337'}, {'start': '17402304', 'chr': 'X', 'summit': '17402389', 'end': '17403278', 'length': '974'}, {'start': '14486356', 'chr': '2L', 'summit': '14486505', 'end': '14486788', 'length': '432'}, {'start': '8146178', 'chr': '2L', 'summit': '8146297', 'end': '8146404', 'length': '226'}, {'start': '12473441', 'chr': '2L', 'summit': '12473678', 'end': '12473796', 'length': '355'}, {'start': '278629', 'chr': '2L', 'summit': '278657', 'end': '278899', 'length': '270'}, {'start': '14623724', 'chr': '2L', 'summit': '14623903', 'end': '14624174', 'length': '450'}, {'start': '7832108', 'chr': 'X', 'summit': '7832233', 'end': '7832366', 'length': '258'}, {'start': '2881325', 'chr': '3L', 'summit': '2881512', 'end': '2881898', 'length': '573'}, {'start': '2393284', 'chr': '3L', 'summit': '2393649', 'end': '2393784', 'length': '500'}, {'start': '6610882', 'chr': '2L', 'summit': '6611151', 'end': '6611304', 'length': '422'}, {'start': '4287053', 'chr': '2L', 'summit': '4287146', 'end': '4287275', 'length': '222'}, {'start': '9480574', 'chr': '2R', 'summit': '9480659', 'end': '9480831', 'length': '257'}, {'start': '17466963', 'chr': '3R', 'summit': '17467141', 'end': '17467263', 'length': '300'}, {'start': '9450318', 'chr': '2R', 'summit': '9450382', 'end': '9452336', 'length': '2018'}, {'start': '5412118', 'chr': '2L', 'summit': '5412158', 'end': '5412790', 'length': '672'}, {'start': '14042095', 'chr': '2L', 'summit': '14042191', 'end': '14042296', 'length': '201'}, {'start': '7787477', 'chr': 'X', 'summit': '7787626', 'end': '7787863', 'length': '386'}, {'start': '3037234', 'chr': '3L', 'summit': '3037338', 'end': '3037495', 'length': '261'}, {'start': '17595333', 'chr': '2R', 'summit': '17595438', 'end': '17595559', 'length': '226'}, {'start': '22712450', 'chr': '3R', 'summit': '22712515', 'end': '22712744', 'length': '294'}, {'start': '19781016', 'chr': 'X', 'summit': '19781113', 'end': '19781336', 'length': '320'}, {'start': '5773123', 'chr': '3L', 'summit': '5773289', 'end': '5773409', 'length': '286'}, {'start': '212326', 'chr': '2R', 'summit': '212465', 'end': '212632', 'length': '306'}, {'start': '744415', 'chr': '3L', 'summit': '744609', 'end': '744856', 'length': '441'}, {'start': '5525689', 'chr': '2L', 'summit': '5525800', 'end': '5525924', 'length': '235'}, {'start': '9431305', 'chr': '2L', 'summit': '9431523', 'end': '9431732', 'length': '427'}, {'start': '15176175', 'chr': '3R', 'summit': '15176298', 'end': '15176515', 'length': '340'}, {'start': '356243', 'chr': '2L', 'summit': '356423', 'end': '356724', 'length': '481'}, {'start': '11388997', 'chr': 'X', 'summit': '11389081', 'end': '11389210', 'length': '213'}, {'start': '17285623', 'chr': '3R', 'summit': '17285903', 'end': '17286039', 'length': '416'}, {'start': '22294002', 'chr': '2L', 'summit': '22294067', 'end': '22294216', 'length': '214'}, {'start': '7087097', 'chr': '2R', 'summit': '7087189', 'end': '7087341', 'length': '244'}, {'start': '7538593', 'chr': '2R', 'summit': '7538680', 'end': '7538833', 'length': '240'}, {'start': '14132701', 'chr': '3L', 'summit': '14132769', 'end': '14132907', 'length': '206'}, {'start': '18224591', 'chr': '2R', 'summit': '18224689', 'end': '18224754', 'length': '163'}, {'start': '678384', 'chr': '3R', 'summit': '678648', 'end': '678810', 'length': '426'}, {'start': '12066125', 'chr': '2L', 'summit': '12066156', 'end': '12066313', 'length': '188'}, {'start': '19931878', 'chr': '3R', 'summit': '19932002', 'end': '19932269', 'length': '391'}, {'start': '12679152', 'chr': '2L', 'summit': '12679486', 'end': '12679570', 'length': '418'}, {'start': '5789133', 'chr': '2L', 'summit': '5789186', 'end': '5789664', 'length': '531'}, {'start': '8845620', 'chr': '2R', 'summit': '8845850', 'end': '8846570', 'length': '950'}, {'start': '9966967', 'chr': '2L', 'summit': '9967236', 'end': '9967390', 'length': '423'}, {'start': '4124546', 'chr': '2R', 'summit': '4124744', 'end': '4124905', 'length': '359'}, {'start': '21529861', 'chr': '3L', 'summit': '21530077', 'end': '21530190', 'length': '329'}, {'start': '11766510', 'chr': '2R', 'summit': '11766656', 'end': '11766757', 'length': '247'}, {'start': '10842911', 'chr': '3L', 'summit': '10843004', 'end': '10843128', 'length': '217'}, {'start': '6678180', 'chr': '3R', 'summit': '6678300', 'end': '6678426', 'length': '246'}, {'start': '19576323', 'chr': '2L', 'summit': '19576444', 'end': '19576680', 'length': '357'}, {'start': '16734026', 'chr': 'X', 'summit': '16734164', 'end': '16734289', 'length': '263'}, {'start': '7490859', 'chr': '2R', 'summit': '7490998', 'end': '7491348', 'length': '489'}, {'start': '12644329', 'chr': 'X', 'summit': '12644448', 'end': '12644630', 'length': '301'}, {'start': '20904322', 'chr': '3R', 'summit': '20904434', 'end': '20904720', 'length': '398'}, {'start': '19337672', 'chr': '2L', 'summit': '19337767', 'end': '19338185', 'length': '513'}, {'start': '4862919', 'chr': '3R', 'summit': '4863057', 'end': '4863141', 'length': '222'}, {'start': '7214210', 'chr': 'X', 'summit': '7214985', 'end': '7215332', 'length': '1122'}, {'start': '15553948', 'chr': 'X', 'summit': '15554050', 'end': '15554151', 'length': '203'}, {'start': '12510952', 'chr': '3R', 'summit': '12511086', 'end': '12511242', 'length': '290'}, {'start': '4408857', 'chr': '3L', 'summit': '4409138', 'end': '4409579', 'length': '722'}, {'start': '15319889', 'chr': '2L', 'summit': '15320051', 'end': '15320253', 'length': '364'}, {'start': '13128728', 'chr': '3L', 'summit': '13128844', 'end': '13129105', 'length': '377'}, {'start': '2172228', 'chr': '2L', 'summit': '2172344', 'end': '2172562', 'length': '334'}, {'start': '16283074', 'chr': '2L', 'summit': '16283150', 'end': '16283340', 'length': '266'}, {'start': '21009315', 'chr': '3R', 'summit': '21009636', 'end': '21009850', 'length': '535'}, {'start': '21857933', 'chr': 'X', 'summit': '21858059', 'end': '21858212', 'length': '279'}, {'start': '15724552', 'chr': '3L', 'summit': '15724959', 'end': '15725229', 'length': '677'}, {'start': '24713364', 'chr': '3R', 'summit': '24713489', 'end': '24713912', 'length': '548'}, {'start': '17043188', 'chr': 'X', 'summit': '17043344', 'end': '17043505', 'length': '317'}, {'start': '21059603', 'chr': '3L', 'summit': '21059695', 'end': '21060928', 'length': '1325'}, {'start': '13716331', 'chr': 'X', 'summit': '13716485', 'end': '13716666', 'length': '335'}, {'start': '2190851', 'chr': 'X', 'summit': '2190935', 'end': '2191054', 'length': '203'}, {'start': '7068819', 'chr': '3R', 'summit': '7069177', 'end': '7069374', 'length': '555'}, {'start': '18888969', 'chr': '3L', 'summit': '18889067', 'end': '18889189', 'length': '220'}, {'start': '18081213', 'chr': '3L', 'summit': '18081312', 'end': '18081496', 'length': '283'}, {'start': '17138272', 'chr': '2R', 'summit': '17138457', 'end': '17138834', 'length': '562'}, {'start': '9336890', 'chr': '2R', 'summit': '9336999', 'end': '9337156', 'length': '266'}, {'start': '20402433', 'chr': '2R', 'summit': '20402560', 'end': '20402784', 'length': '351'}, {'start': '17500985', 'chr': '2L', 'summit': '17501106', 'end': '17501284', 'length': '299'}, {'start': '8841404', 'chr': '2L', 'summit': '8841540', 'end': '8842333', 'length': '929'}, {'start': '7075099', 'chr': '2R', 'summit': '7075229', 'end': '7075384', 'length': '285'}, {'start': '17122649', 'chr': '3R', 'summit': '17122800', 'end': '17122806', 'length': '157'}, {'start': '11456334', 'chr': '2R', 'summit': '11456523', 'end': '11456647', 'length': '313'}, {'start': '11986242', 'chr': '2R', 'summit': '11986480', 'end': '11986579', 'length': '337'}, {'start': '8474778', 'chr': '3R', 'summit': '8474887', 'end': '8474928', 'length': '150'}, {'start': '8330647', 'chr': 'X', 'summit': '8330785', 'end': '8330914', 'length': '267'}, {'start': '16912520', 'chr': '2R', 'summit': '16912630', 'end': '16912743', 'length': '223'}, {'start': '8331828', 'chr': 'X', 'summit': '8331897', 'end': '8332365', 'length': '537'}, {'start': '27018467', 'chr': '3R', 'summit': '27018880', 'end': '27018998', 'length': '531'}, {'start': '4034391', 'chr': '2L', 'summit': '4034517', 'end': '4034733', 'length': '342'}, {'start': '6259864', 'chr': 'X', 'summit': '6259955', 'end': '6260094', 'length': '230'}, {'start': '9011957', 'chr': 'X', 'summit': '9012134', 'end': '9012313', 'length': '356'}, {'start': '2696904', 'chr': '3R', 'summit': '2697016', 'end': '2697187', 'length': '283'}, {'start': '17553042', 'chr': 'X', 'summit': '17553252', 'end': '17553443', 'length': '401'}, {'start': '9568864', 'chr': '2L', 'summit': '9569034', 'end': '9569156', 'length': '292'}, {'start': '305891', 'chr': 'X', 'summit': '305961', 'end': '306099', 'length': '208'}, {'start': '21241589', 'chr': '2L', 'summit': '21241684', 'end': '21241817', 'length': '228'}, {'start': '14399812', 'chr': '3L', 'summit': '14399997', 'end': '14400150', 'length': '338'}, {'start': '2707264', 'chr': '3R', 'summit': '2707395', 'end': '2707572', 'length': '308'}, {'start': '9576616', 'chr': '2L', 'summit': '9576725', 'end': '9576844', 'length': '228'}, {'start': '19682084', 'chr': 'X', 'summit': '19682183', 'end': '19682324', 'length': '240'}, {'start': '9484462', 'chr': '3L', 'summit': '9484676', 'end': '9484909', 'length': '447'}, {'start': '7177397', 'chr': '3R', 'summit': '7177537', 'end': '7177772', 'length': '375'}, {'start': '2832907', 'chr': '3R', 'summit': '2833055', 'end': '2833213', 'length': '306'}, {'start': '8477458', 'chr': '2R', 'summit': '8477598', 'end': '8477702', 'length': '244'}, {'start': '617928', 'chr': '3L', 'summit': '618149', 'end': '618306', 'length': '378'}, {'start': '12075656', 'chr': '3R', 'summit': '12075768', 'end': '12076053', 'length': '397'}, {'start': '10303628', 'chr': '3R', 'summit': '10303770', 'end': '10303899', 'length': '271'}, {'start': '7774971', 'chr': '3L', 'summit': '7775105', 'end': '7775204', 'length': '233'}, {'start': '2247603', 'chr': '3R', 'summit': '2247754', 'end': '2247872', 'length': '269'}, {'start': '14261806', 'chr': '2L', 'summit': '14262029', 'end': '14262194', 'length': '388'}, {'start': '21880995', 'chr': '3R', 'summit': '21881185', 'end': '21881310', 'length': '315'}, {'start': '18501276', 'chr': '3R', 'summit': '18501395', 'end': '18501537', 'length': '261'}, {'start': '4880248', 'chr': '3R', 'summit': '4880367', 'end': '4880503', 'length': '255'}, {'start': '7105100', 'chr': 'X', 'summit': '7105184', 'end': '7105289', 'length': '189'}, {'start': '2347801', 'chr': 'X', 'summit': '2347870', 'end': '2348076', 'length': '275'}, {'start': '7585019', 'chr': '2L', 'summit': '7585114', 'end': '7585263', 'length': '244'}, {'start': '1392065', 'chr': '2R', 'summit': '1392233', 'end': '1392367', 'length': '302'}, {'start': '11502803', 'chr': '3R', 'summit': '11502930', 'end': '11503049', 'length': '246'}, {'start': '25619936', 'chr': '3R', 'summit': '25620116', 'end': '25620230', 'length': '294'}, {'start': '15146029', 'chr': '2R', 'summit': '15146197', 'end': '15146388', 'length': '359'}, {'start': '17600556', 'chr': '2R', 'summit': '17600625', 'end': '17600751', 'length': '195'}, {'start': '4028780', 'chr': '2L', 'summit': '4028890', 'end': '4029045', 'length': '265'}, {'start': '20822814', 'chr': '2L', 'summit': '20822872', 'end': '20823052', 'length': '238'}, {'start': '3037670', 'chr': '3L', 'summit': '3037795', 'end': '3038109', 'length': '439'}, {'start': '9981983', 'chr': 'X', 'summit': '9982132', 'end': '9982318', 'length': '335'}, {'start': '21245717', 'chr': 'X', 'summit': '21245797', 'end': '21245915', 'length': '198'}, {'start': '246723', 'chr': '3L', 'summit': '246904', 'end': '247093', 'length': '370'}, {'start': '18341929', 'chr': '3L', 'summit': '18342034', 'end': '18342869', 'length': '940'}, {'start': '8384868', 'chr': '2L', 'summit': '8384886', 'end': '8385140', 'length': '272'}, {'start': '19931556', 'chr': '3R', 'summit': '19931656', 'end': '19931791', 'length': '235'}, {'start': '21587258', 'chr': '3L', 'summit': '21587340', 'end': '21587643', 'length': '385'}, {'start': '11116081', 'chr': '3R', 'summit': '11116182', 'end': '11116646', 'length': '565'}, {'start': '7786692', 'chr': 'X', 'summit': '7786999', 'end': '7787134', 'length': '442'}, {'start': '20963650', 'chr': '2R', 'summit': '20963683', 'end': '20963850', 'length': '200'}, {'start': '25370937', 'chr': '3R', 'summit': '25371120', 'end': '25371206', 'length': '269'}, {'start': '3549310', 'chr': '2L', 'summit': '3549372', 'end': '3549526', 'length': '216'}, {'start': '4667099', 'chr': '3R', 'summit': '4667708', 'end': '4668069', 'length': '970'}, {'start': '10010489', 'chr': 'X', 'summit': '10010568', 'end': '10010726', 'length': '237'}, {'start': '13279516', 'chr': '2R', 'summit': '13279644', 'end': '13279687', 'length': '171'}, {'start': '26588003', 'chr': '3R', 'summit': '26588197', 'end': '26588399', 'length': '396'}, {'start': '16447041', 'chr': 'X', 'summit': '16447162', 'end': '16447261', 'length': '220'}, {'start': '11113641', 'chr': '3L', 'summit': '11113770', 'end': '11113884', 'length': '243'}, {'start': '17986389', 'chr': '3L', 'summit': '17986548', 'end': '17986714', 'length': '325'}, {'start': '14399819', 'chr': '3R', 'summit': '14400188', 'end': '14400254', 'length': '435'}, {'start': '11689550', 'chr': '3L', 'summit': '11689644', 'end': '11689795', 'length': '245'}, {'start': '6484717', 'chr': '3R', 'summit': '6484824', 'end': '6484955', 'length': '238'}, {'start': '12611751', 'chr': '2L', 'summit': '12611943', 'end': '12612095', 'length': '344'}, {'start': '3822584', 'chr': '2L', 'summit': '3822741', 'end': '3822909', 'length': '325'}, {'start': '745213', 'chr': '3L', 'summit': '745288', 'end': '745424', 'length': '211'}, {'start': '21246201', 'chr': 'X', 'summit': '21246260', 'end': '21246403', 'length': '202'}, {'start': '10703208', 'chr': 'X', 'summit': '10703325', 'end': '10703672', 'length': '464'}, {'start': '8499452', 'chr': '3L', 'summit': '8499519', 'end': '8499649', 'length': '197'}, {'start': '2007512', 'chr': '2R', 'summit': '2007639', 'end': '2007746', 'length': '234'}, {'start': '14142873', 'chr': '3L', 'summit': '14143404', 'end': '14143732', 'length': '859'}, {'start': '14946368', 'chr': '3L', 'summit': '14946481', 'end': '14946846', 'length': '478'}, {'start': '16763403', 'chr': '2L', 'summit': '16763512', 'end': '16763662', 'length': '259'}, {'start': '19141265', 'chr': '3R', 'summit': '19141374', 'end': '19141544', 'length': '279'}, {'start': '6423449', 'chr': '2R', 'summit': '6423779', 'end': '6423863', 'length': '414'}, {'start': '2883347', 'chr': '3L', 'summit': '2883596', 'end': '2883693', 'length': '346'}]\n"
     ]
    }
   ],
   "source": [
    "def load_peak_sets(pk_file):\n",
    "    pks = []\n",
    "    for (i,p) in enumerate(open(pk_file)):\n",
    "        if i > 0:\n",
    "            pk_in = p[:-1].split(\"\\t\")\n",
    "            pk = (pk_in[5],pk_in[6],pk_in[7],pk_in[8],pk_in[9],pk_in[10],pk_in[11],{'chr':pk_in[0],'start':pk_in[1],'end':pk_in[2],'summit':pk_in[3],'length':pk_in[4]})\n",
    "            pks.append(pk)\n",
    "    return pks\n",
    "\n",
    "gtA_fdr1_pkbind = load_peak_sets(data_out_dir + \"/supp_data/gtA_fdr1_pkbind.tsv\")\n",
    "gtP_fdr1_pkbind = load_peak_sets(data_out_dir + \"/supp_data/gtP_fdr1_pkbind.tsv\")\n",
    "gtA_fdr1_pk = [x[7] for x in gtA_fdr1_pkbind]\n",
    "gtP_fdr1_pk = [x[7] for x in gtP_fdr1_pkbind]\n",
    "notcp_fdr1_pkbind = load_peak_sets(data_out_dir + '/supp_data/gtALL_fdr1_notcp_highpkbind.tsv')\n",
    "notcp_fdr1_pk = [x[7] for x in notcp_fdr1_pkbind]\n",
    "print notcp_fdr1_pk"
   ]
  },
  {
   "cell_type": "markdown",
   "metadata": {},
   "source": [
    "### A/P biased peak overlap w/ region around developmental genes"
   ]
  },
  {
   "cell_type": "code",
   "execution_count": 25,
   "metadata": {
    "collapsed": false
   },
   "outputs": [],
   "source": [
    "def get_region_binding(reg,win=0,*expts):\n",
    "    b_arrays = {}\n",
    "    for ex in expts:\n",
    "        b_arrays[ex.name] = ex[reg['chr']][reg['start']-win:reg['end']+win]\n",
    "    return b_arrays\n",
    "\n",
    "def biased_binding_proportion(reg,win,expt1,expt2):\n",
    "    reg_bind = get_region_binding(reg,win,expt1,expt2)\n",
    "    biased_binding = np.abs(reg_bind[expt1.name] - reg_bind[expt2.name])\n",
    "    total_binding = reg_bind[gtAm_tn.name] + reg_bind[gtPm_tn.name]\n",
    "    return np.sum(biased_binding) / np.sum(total_binding)\n",
    "\n",
    "def biased_binding(reg,win,expt1,expt2):\n",
    "    reg_bind = get_region_binding(reg,win,expt1,expt2)\n",
    "    biased_binding = np.abs(reg_bind[expt1.name] - reg_bind[expt2.name])\n",
    "    return np.sum(biased_binding) / len(biased_binding)\n",
    "\n",
    "def log_odds_binding(reg,win,expt1,expt2):\n",
    "    reg_bind = get_region_binding(reg,win,expt1,expt2)\n",
    "    biased_binding = np.log(np.sum(reg_bind[expt1.name])/np.sum(reg_bind[expt2.name]))\n",
    "    return biased_binding\n",
    "\n",
    "def Abias_Pbias_diff(reg,win,expt1,expt2):\n",
    "    reg_bind = get_region_binding(reg,win,expt1,expt2)\n",
    "    biased_binding_diff = (reg_bind[expt1.name] - reg_bind[expt2.name])\n",
    "    biased_binding = max(biased_binding_diff) - min(biased_binding_diff)\n",
    "    return biased_binding\n",
    "\n",
    "def df_pk_overlap(df,pk,dfchr='chr',pkchr='chr',dfst='start',pkst='start',dfend='end',pkend='end',pkwin=0):\n",
    "    pk_start = pk[pkst] - pkwin\n",
    "    pk_end = pk[pkend] + pkwin\n",
    "    return df.loc[((df[dfchr] == pk[pkchr]) &\n",
    "                   ((((df[dfst] >= pk_start) & (df[dfst] <= pk_end)) |\n",
    "                     ((df[dfend] >= pk_start) & (df[dfend] <= pk_end))) |\n",
    "                    (((pk_start >= df[dfst]) & (pk_start <= df[dfend])) & \n",
    "                     ((pk_end >= df[dfst]) & (pk_end <= df[dfend])))) )]\n",
    "\n",
    "class chipExpt():\n",
    "    def __init__(self,group,name=\"NoName\",chrs=DMEL_CHRS_EU,chr_ext='ext'):\n",
    "        self.chr_dict = {}\n",
    "        self.group = group\n",
    "        self.name = name\n",
    "        arrays = group._v_children.items()\n",
    "        if chrs:\n",
    "            for ch in chrs:\n",
    "                chr_found = 0\n",
    "                for (name,node) in arrays:\n",
    "                    if re.search(chr_ext + \"\\w*_(chr)?\"+ch+\"$\",name):\n",
    "                        #print (ch,name,node.name)\n",
    "                        chr_found = 1\n",
    "                        self.chr_dict[ch] = node\n",
    "                        break\n",
    "                if chr_found == 0:\n",
    "                    print \"no chr found for %s\" % (ch,)\n",
    "        else:\n",
    "            for n in group._f_walkNodes():\n",
    "                ch_s = re.search(\"chr(.+)\",n.name)\n",
    "                self.chr_dict[ch_s.group(1)] = n\n",
    "                break\n",
    "                    \n",
    "    def __getitem__(self,item):\n",
    "        return self.chr_dict[item]\n",
    "\n",
    "    def write_wig(self,chr_convert=None,span=10,outfile=None):\n",
    "        if outfile == None:\n",
    "            outfile = self.name + \".wig\"\n",
    "        wigout = open(outfile,\"w\")\n",
    "        print >> wigout, \"track type=wiggle_0 name=%s description=%s visibility=full autoScale=off maxHeightPixels=100:50:20\" % (self.name,self.name)\n",
    "        for (chrom,chr_arr) in self.chr_dict.items():\n",
    "            print \"Writing %s...\" % (chrom,),\n",
    "            name = chrom\n",
    "            if chr_convert != None:\n",
    "                name = chr_convert[chrom]\n",
    "            print >> wigout, \"variableStep chrom=%s span=%d\" % (name,span)\n",
    "            for i in np.arange(1,len(chr_arr),step=span):\n",
    "                print >> wigout, \"%d\\t%f\" % (i,np.sum(chr_arr[i:i+span])/float(span))\n",
    "            print \"done!\"\n",
    "        wigout.close()"
   ]
  },
  {
   "cell_type": "code",
   "execution_count": 60,
   "metadata": {
    "collapsed": false
   },
   "outputs": [
    {
     "data": {
      "text/plain": [
       "{'boxes': [<matplotlib.lines.Line2D at 0x119a35110>,\n",
       "  <matplotlib.lines.Line2D at 0x11ea57990>],\n",
       " 'caps': [<matplotlib.lines.Line2D at 0x11ea4b050>,\n",
       "  <matplotlib.lines.Line2D at 0x11ea4b690>,\n",
       "  <matplotlib.lines.Line2D at 0x11fcc3c50>,\n",
       "  <matplotlib.lines.Line2D at 0x11fce82d0>],\n",
       " 'fliers': [<matplotlib.lines.Line2D at 0x11ea57350>,\n",
       "  <matplotlib.lines.Line2D at 0x11ab7c590>],\n",
       " 'means': [],\n",
       " 'medians': [<matplotlib.lines.Line2D at 0x11ea4bcd0>,\n",
       "  <matplotlib.lines.Line2D at 0x119dfb8d0>],\n",
       " 'whiskers': [<matplotlib.lines.Line2D at 0x119a35310>,\n",
       "  <matplotlib.lines.Line2D at 0x119a359d0>,\n",
       "  <matplotlib.lines.Line2D at 0x11ea57f90>,\n",
       "  <matplotlib.lines.Line2D at 0x11fcc3610>]}"
      ]
     },
     "execution_count": 60,
     "metadata": {},
     "output_type": "execute_result"
    },
    {
     "data": {
      "image/png": "[encoded data removed]",
      "text/plain": [
       "<matplotlib.figure.Figure at 0x1171fef50>"
      ]
     },
     "metadata": {},
     "output_type": "display_data"
    }
   ],
   "source": [
    "# using log-odds (ratio) scoring\n",
    "b2010_reg_binding_APnormdiff = [(g,r,biased_binding(r,5000,gtAm_tn,gtPm_tn)) for (g,r) in b2010_locs]\n",
    "all_genes_reg_binding_APnormdiff = [(g,biased_binding(g,5000,gtAm_tn,gtPm_tn)) for g in gff_dmel.get_all_entry_type('gene')]\n",
    "b2010_genes_5k_APdiff = open(data_out_dir + \"supp_data/b2010_5k_APdiff.tsv\",\"w+\")\n",
    "all_genes_5k_APdiff = open(data_out_dir + \"supp_data/all_genes_5k_APdiff.tsv\",\"w+\")\n",
    "\n",
    "print >> b2010_genes_5k_APdiff, \"gene\\tFBid\\tchr\\tstart\\tend\\tstrand\\tAP_norm_diff\"\n",
    "for g in b2010_reg_binding_APnormdiff:\n",
    "    print >> b2010_genes_5k_APdiff, \"%s\\t%s\\t%s\\t%d\\t%d\\t%s\\t%f\" % (g[0],g[1]['FBid'],g[1]['chr'],g[1]['start'],g[1]['end'],g[1]['strand'],g[2])\n",
    "b2010_genes_5k_APdiff.close()\n",
    "\n",
    "print >> all_genes_5k_APdiff, \"gene\\tFBid\\tchr\\tstart\\tend\\tstrand\\tAP_norm_diff\"\n",
    "for g in all_genes_reg_binding_APnormdiff:\n",
    "    print >> all_genes_5k_APdiff, \"%s\\t%s\\t%s\\t%d\\t%d\\t%s\\t%f\" % (g[0]['name'],g[0]['FBid'],g[0]['chr'],g[0]['start'],g[0]['end'],g[0]['strand'],g[1])\n",
    "all_genes_5k_APdiff.close()\n",
    "\n",
    "#print b2010_reg_binding_APnormdiff\n",
    "#print all_genes_reg_binding_APnormdiff\n",
    "#plt.gcf().set_figheight(10)\n",
    "#plt.gcf().set_figwidth(10)\n",
    "\n",
    "#all_gene_vals_APlogodds = np.array([x[1] for x in all_genes_reg_binding_APlogodds if np.isfinite(x[1])])\n",
    "#all_gene_vals_APlogodds = np.nan_to_num(all_gene_vals_wnan_APlogodds)\n",
    "#b2010_bind_ratios_APlogodds = np.array(zip(*b2010_reg_binding_APlogodds)[1])\n",
    "#print [x[1] for x in all_genes_reg_binding_APnormdiff]\n",
    "#print np.sum(sorted([x[1] for x in all_genes_reg_binding_APnormdiff if np.isfinite(np.float(x))]))\n",
    "#fx = []\n",
    "#for z in [x[1] for x in all_genes_reg_binding_APnormdiff]:\n",
    "#    try:\n",
    "#        fx.append(np.float(z))\n",
    "#    except:\n",
    "#        print \"ERR:\" + str(z)\n",
    "b2010_vals = np.array([x[2] for x in b2010_reg_binding_APnormdiff])\n",
    "all_vals = np.array([x[1] for x in all_genes_reg_binding_APnormdiff if not np.isnan(x[1])])\n",
    "plt.boxplot([b2010_vals,all_vals])\n",
    "#print fx\n",
    "#plt.vlines(b2010_bind_ratios_APlogodds,0,1600,colors='r')"
   ]
  },
  {
   "cell_type": "code",
   "execution_count": 185,
   "metadata": {
    "collapsed": false
   },
   "outputs": [],
   "source": [
    "gtA_pk_df = pd.DataFrame(columns=['chr','start','end'],index=np.arange(len(gtA_fdr1_pk)))\n",
    "gtA_pk_df['chr'] = [x['chr'] for x in gtA_fdr1_pk]\n",
    "gtA_pk_df['start'] = [int(x['start']) for x in gtA_fdr1_pk]\n",
    "gtA_pk_df['end'] = [int(x['end']) for x in gtA_fdr1_pk]\n",
    "gtA_pk_df['summit'] = [int(x['summit']) for x in gtA_fdr1_pk]\n",
    "\n",
    "gtP_pk_df = pd.DataFrame(columns=['chr','start','end'],index=np.arange(len(gtP_fdr1_pk)))\n",
    "gtP_pk_df['chr'] = [x['chr'] for x in gtP_fdr1_pk]\n",
    "gtP_pk_df['start'] = [int(x['start']) for x in gtP_fdr1_pk]\n",
    "gtP_pk_df['end'] = [int(x['end']) for x in gtP_fdr1_pk]\n",
    "gtP_pk_df['summit'] = [int(x['summit']) for x in gtP_fdr1_pk]\n",
    "\n",
    "gtND_pk_df = pd.DataFrame(columns=['chr','start','end'],index=np.arange(len(notcp_fdr1_pk)))\n",
    "gtND_pk_df['chr'] = [x['chr'] for x in notcp_fdr1_pk]\n",
    "gtND_pk_df['start'] = [int(x['start']) for x in notcp_fdr1_pk]\n",
    "gtND_pk_df['end'] = [int(x['end']) for x in notcp_fdr1_pk]\n",
    "gtND_pk_df['summit'] = [int(x['summit']) for x in notcp_fdr1_pk]\n",
    "\n",
    "gtAll_pk_df = pd.concat([gtA_pk_df,gtP_pk_df,gtND_pk_df],ignore_index=True)\n",
    "gtBias_pk_df = pd.concat([gtA_pk_df,gtP_pk_df],ignore_index=True)"
   ]
  },
  {
   "cell_type": "code",
   "execution_count": 188,
   "metadata": {
    "collapsed": false
   },
   "outputs": [
    {
     "data": {
      "text/plain": [
       "(599, 4)"
      ]
     },
     "execution_count": 188,
     "metadata": {},
     "output_type": "execute_result"
    }
   ],
   "source": [
    "gtAll_pk_df.shape\n",
    "gtBias_pk_df.shape"
   ]
  },
  {
   "cell_type": "code",
   "execution_count": 190,
   "metadata": {
    "collapsed": false
   },
   "outputs": [
    {
     "name": "stderr",
     "output_type": "stream",
     "text": [
      "/Users/barricklab/anaconda/lib/python2.7/site-packages/ipykernel/__main__.py:6: SettingWithCopyWarning: \n",
      "A value is trying to be set on a copy of a slice from a DataFrame.\n",
      "Try using .loc[row_indexer,col_indexer] = value instead\n",
      "\n",
      "See the caveats in the documentation: http://pandas.pydata.org/pandas-docs/stable/indexing.html#indexing-view-versus-copy\n",
      "/Users/barricklab/anaconda/lib/python2.7/site-packages/ipykernel/__main__.py:12: SettingWithCopyWarning: \n",
      "A value is trying to be set on a copy of a slice from a DataFrame.\n",
      "Try using .loc[row_indexer,col_indexer] = value instead\n",
      "\n",
      "See the caveats in the documentation: http://pandas.pydata.org/pandas-docs/stable/indexing.html#indexing-view-versus-copy\n",
      "/Users/barricklab/anaconda/lib/python2.7/site-packages/ipykernel/__main__.py:21: SettingWithCopyWarning: \n",
      "A value is trying to be set on a copy of a slice from a DataFrame.\n",
      "Try using .loc[row_indexer,col_indexer] = value instead\n",
      "\n",
      "See the caveats in the documentation: http://pandas.pydata.org/pandas-docs/stable/indexing.html#indexing-view-versus-copy\n",
      "/Users/barricklab/anaconda/lib/python2.7/site-packages/ipykernel/__main__.py:27: SettingWithCopyWarning: \n",
      "A value is trying to be set on a copy of a slice from a DataFrame.\n",
      "Try using .loc[row_indexer,col_indexer] = value instead\n",
      "\n",
      "See the caveats in the documentation: http://pandas.pydata.org/pandas-docs/stable/indexing.html#indexing-view-versus-copy\n"
     ]
    },
    {
     "name": "stdout",
     "output_type": "stream",
     "text": [
      "(97, 6)\n",
      "(63, 6)\n"
     ]
    }
   ],
   "source": [
    "b2010_locs_Ser = [(k,pd.Series(v)) for (k,v) in b2010_locs]\n",
    "b2010_locs_df = pd.DataFrame.from_items(b2010_locs_Ser,orient='index',columns=b2010_locs_Ser[0][1].index)\n",
    "b2010_gtBias_10kwin = []\n",
    "for x in b2010_locs_df.iterrows():\n",
    "    hits = df_pk_overlap(gtBias_pk_df,x[1],pkwin=5000)\n",
    "    hits['target_gene'] = x[0]\n",
    "    gene_start = None\n",
    "    if x[1]['strand'] == \"+\":\n",
    "        gene_start = x[1]['start']\n",
    "    else:\n",
    "        gene_start = x[1]['end']\n",
    "    hits['summit_target_tss_dist'] = hits['summit'] - gene_start\n",
    "    b2010_gtBias_10kwin.append(hits)\n",
    "#print [(n,ol.shape[0]) for (n,ol) in b2010_gtALL_10kwin.items()]\n",
    "b2010_gtBias_10kwin = pd.concat(b2010_gtBias_10kwin,ignore_index=True)\n",
    "b2010_gtBias_10kwin.to_csv(data_out_dir + \"supp_data/Bias_peaks_5kwin_devgenes.tsv\",sep=\"\\t\")\n",
    "\n",
    "b2010_gt_un0_10kwin = []\n",
    "for x in b2010_locs_df.iterrows():\n",
    "    hits = df_pk_overlap(gtAll_pk_df,x[1],pkwin=5000)\n",
    "    hits['target_gene'] = x[0]\n",
    "    gene_start = None\n",
    "    if x[1]['strand'] == \"+\":\n",
    "        gene_start = x[1]['start']\n",
    "    else:\n",
    "        gene_start = x[1]['end']\n",
    "    hits['summit_target_tss_dist'] = hits['summit'] - gene_start\n",
    "    b2010_gt_un0_10kwin.append(hits)\n",
    "b2010_gt_un0_10kwin = pd.concat(b2010_gt_un0_10kwin,ignore_index=True)\n",
    "b2010_gt_un0_10kwin.to_csv(data_out_dir + \"supp_data/all_un0_peaks_5kwin_devgenes.tsv\",sep=\"\\t\")\n",
    "print b2010_gt_un0_10kwin.shape\n",
    "print b2010_gtBias_10kwin.shape\n",
    "#b2010_gtALL_pk_cnt.name = 'gtBias'\n",
    "#print b2010_gtALL_pk_cnt"
   ]
  },
  {
   "cell_type": "code",
   "execution_count": 74,
   "metadata": {
    "collapsed": true
   },
   "outputs": [],
   "source": [
    "# Import developmental enhancer list from Mathilde's paper\n",
    "mp2013_enhancers = pd.read_csv(\"~/Dropbox/Documents/Manuscripts/slicing/analysis_notebook/data/enhancers/Paris_etal_2013.tsv\",sep=\"\\t\")\n",
    "mp2013_enhancers[\"Chromosome\"] = mp2013_enhancers[\"Chromosome\"].apply((lambda x: re.sub(\"chr\",\"\",x)))\n",
    "mp2013_enhancers.columns = pd.Index([u'NAME', u'Source', u'chr', u'start', u'end'], dtype=object)"
   ]
  },
  {
   "cell_type": "code",
   "execution_count": 192,
   "metadata": {
    "collapsed": false
   },
   "outputs": [
    {
     "name": "stderr",
     "output_type": "stream",
     "text": [
      "/Users/barricklab/anaconda/lib/python2.7/site-packages/ipykernel/__main__.py:4: SettingWithCopyWarning: \n",
      "A value is trying to be set on a copy of a slice from a DataFrame.\n",
      "Try using .loc[row_indexer,col_indexer] = value instead\n",
      "\n",
      "See the caveats in the documentation: http://pandas.pydata.org/pandas-docs/stable/indexing.html#indexing-view-versus-copy\n",
      "/Users/barricklab/anaconda/lib/python2.7/site-packages/ipykernel/__main__.py:5: SettingWithCopyWarning: \n",
      "A value is trying to be set on a copy of a slice from a DataFrame.\n",
      "Try using .loc[row_indexer,col_indexer] = value instead\n",
      "\n",
      "See the caveats in the documentation: http://pandas.pydata.org/pandas-docs/stable/indexing.html#indexing-view-versus-copy\n",
      "/Users/barricklab/anaconda/lib/python2.7/site-packages/ipykernel/__main__.py:6: SettingWithCopyWarning: \n",
      "A value is trying to be set on a copy of a slice from a DataFrame.\n",
      "Try using .loc[row_indexer,col_indexer] = value instead\n",
      "\n",
      "See the caveats in the documentation: http://pandas.pydata.org/pandas-docs/stable/indexing.html#indexing-view-versus-copy\n",
      "/Users/barricklab/anaconda/lib/python2.7/site-packages/ipykernel/__main__.py:7: SettingWithCopyWarning: \n",
      "A value is trying to be set on a copy of a slice from a DataFrame.\n",
      "Try using .loc[row_indexer,col_indexer] = value instead\n",
      "\n",
      "See the caveats in the documentation: http://pandas.pydata.org/pandas-docs/stable/indexing.html#indexing-view-versus-copy\n"
     ]
    },
    {
     "name": "stdout",
     "output_type": "stream",
     "text": [
      "(112, 8)\n"
     ]
    },
    {
     "name": "stderr",
     "output_type": "stream",
     "text": [
      "/Users/barricklab/anaconda/lib/python2.7/site-packages/ipykernel/__main__.py:15: SettingWithCopyWarning: \n",
      "A value is trying to be set on a copy of a slice from a DataFrame.\n",
      "Try using .loc[row_indexer,col_indexer] = value instead\n",
      "\n",
      "See the caveats in the documentation: http://pandas.pydata.org/pandas-docs/stable/indexing.html#indexing-view-versus-copy\n",
      "/Users/barricklab/anaconda/lib/python2.7/site-packages/ipykernel/__main__.py:16: SettingWithCopyWarning: \n",
      "A value is trying to be set on a copy of a slice from a DataFrame.\n",
      "Try using .loc[row_indexer,col_indexer] = value instead\n",
      "\n",
      "See the caveats in the documentation: http://pandas.pydata.org/pandas-docs/stable/indexing.html#indexing-view-versus-copy\n",
      "/Users/barricklab/anaconda/lib/python2.7/site-packages/ipykernel/__main__.py:17: SettingWithCopyWarning: \n",
      "A value is trying to be set on a copy of a slice from a DataFrame.\n",
      "Try using .loc[row_indexer,col_indexer] = value instead\n",
      "\n",
      "See the caveats in the documentation: http://pandas.pydata.org/pandas-docs/stable/indexing.html#indexing-view-versus-copy\n",
      "/Users/barricklab/anaconda/lib/python2.7/site-packages/ipykernel/__main__.py:18: SettingWithCopyWarning: \n",
      "A value is trying to be set on a copy of a slice from a DataFrame.\n",
      "Try using .loc[row_indexer,col_indexer] = value instead\n",
      "\n",
      "See the caveats in the documentation: http://pandas.pydata.org/pandas-docs/stable/indexing.html#indexing-view-versus-copy\n"
     ]
    },
    {
     "name": "stdout",
     "output_type": "stream",
     "text": [
      "(153, 8)\n"
     ]
    }
   ],
   "source": [
    "mp2013_enhancers_gtBias_overlap = []\n",
    "for x in mp2013_enhancers.iterrows():\n",
    "    hits = df_pk_overlap(gtBias_pk_df,x[1],pkwin=0)\n",
    "    hits['enh_name'] = x[1]['NAME']\n",
    "    hits['enh_source'] = x[1]['Source']\n",
    "    hits['enh_start'] = x[1]['start']\n",
    "    hits['enh_end'] = x[1]['end']\n",
    "    mp2013_enhancers_gtBias_overlap.append(hits)\n",
    "mp2013_enhancers_gtBias_overlap = pd.concat(mp2013_enhancers_gtBias_overlap,ignore_index=True)\n",
    "print mp2013_enhancers_gtBias_overlap.shape\n",
    "\n",
    "mp2013_enhancers_gt_un0_overlap = []\n",
    "for x in mp2013_enhancers.iterrows():\n",
    "    hits = df_pk_overlap(gtAll_pk_df,x[1],pkwin=0)\n",
    "    hits['enh_name'] = x[1]['NAME']\n",
    "    hits['enh_source'] = x[1]['Source']\n",
    "    hits['enh_start'] = x[1]['start']\n",
    "    hits['enh_end'] = x[1]['end']\n",
    "    mp2013_enhancers_gt_un0_overlap.append(hits)\n",
    "mp2013_enhancers_gt_un0_overlap = pd.concat(mp2013_enhancers_gt_un0_overlap,ignore_index=True)\n",
    "#mp2013_enhancers_gt_un0_overlap.to_csv(data_out_dir + \"supp_data/all_un0_peaks_5kwin_devgenes.tsv\",sep=\"\\t\")\n",
    "print mp2013_enhancers_gt_un0_overlap.shape\n",
    "\n"
   ]
  },
  {
   "cell_type": "code",
   "execution_count": 157,
   "metadata": {
    "collapsed": false
   },
   "outputs": [
    {
     "name": "stdout",
     "output_type": "stream",
     "text": [
      "112\n"
     ]
    }
   ],
   "source": [
    "print len(mp2013_enhancers_gtBias_overlap)"
   ]
  },
  {
   "cell_type": "code",
   "execution_count": 194,
   "metadata": {
    "collapsed": false
   },
   "outputs": [],
   "source": [
    "mp2013_enhancers_gtBias_overlap_flt = []\n",
    "\n",
    "def calculate_pk_enh_overlap(pk_overlap_df):\n",
    "    overlap = []\n",
    "    for i in range(0,len(pk_overlap_df)):\n",
    "        r = pk_overlap_df.loc[i]\n",
    "        pk_length = float(r['end'] - r['start'])\n",
    "        frac_overlap = 0\n",
    "        if (r['enh_end'] < r['end']) and r['enh_start'] > r['start']:\n",
    "            frac_overlap = (r['enh_end'] - r['enh_start']) / pk_length\n",
    "        elif (r['end'] < r ['enh_end']) and ['start'] > ['enh_start']:\n",
    "            frac_overlap =  (r['end'] - r['start']) / pk_length\n",
    "        elif (r['enh_end'] < r['end']):\n",
    "            frac_overlap = (r['enh_end'] - r['start']) / pk_length\n",
    "        elif (r['enh_start'] > r['start']):\n",
    "            frac_overlap = (r['end'] - r['enh_start']) / pk_length\n",
    "        overlap.append(frac_overlap)\n",
    "    pk_overlap_df[\"Overlap\"] = overlap\n",
    "\n",
    "calculate_pk_enh_overlap(mp2013_enhancers_gtBias_overlap)\n",
    "calculate_pk_enh_overlap(mp2013_enhancers_gt_un0_overlap)\n",
    "\n",
    "mp2013_enhancers_gtBias_overlap_flt = mp2013_enhancers_gtBias_overlap[mp2013_enhancers_gtBias_overlap[\"Overlap\"] > 0.6]\n",
    "mp2013_enhancers_gtBias_overlap_flt.to_csv(data_out_dir + \"supp_data/Bias_pks_mp2013_enhancers_overlap_flt.tsv\",sep=\"\\t\")\n",
    "\n",
    "mp2013_enhancers_gt_un0_overlap_flt = mp2013_enhancers_gt_un0_overlap[mp2013_enhancers_gt_un0_overlap[\"Overlap\"] > 0.6]\n",
    "mp2013_enhancers_gt_un0_overlap_flt.to_csv(data_out_dir + \"supp_data/All_pks_mp2013_enhancers_overlap_flt.tsv\",sep=\"\\t\")\n"
   ]
  },
  {
   "cell_type": "code",
   "execution_count": 170,
   "metadata": {
    "collapsed": false
   },
   "outputs": [
    {
     "name": "stdout",
     "output_type": "stream",
     "text": [
      "3333\n",
      "[5, 13, 14, 17, 18, 21, 24, 52, 74, 83, 84, 93, 109, 140, 141, 154, 167, 187, 244, 245, 270, 272, 275, 296, 322, 334, 352, 380, 395, 405, 418, 465, 480, 495, 547, 550, 587, 632, 705, 747, 753, 784, 794, 864, 887, 962, 1047, 1074, 1283, 1347, 1367, 1422, 1459, 1551, 1602, 1665, 1700, 1748, 1780, 1786, 2138, 2511, 2570]\n",
      "[8, 8, 13, 13, 18, 18, 18, 18, 18, 18, 21, 21, 21, 21, 42, 52, 52, 52, 52, 52, 52, 62, 68, 79, 84, 102, 109, 145, 145, 150, 187, 187, 187, 187, 243, 244, 244, 245, 273, 273, 273, 279, 283, 283, 283, 283, 283, 334, 352, 405, 405, 454, 454, 454, 454, 519, 594, 594, 599, 605, 711, 730, 794, 794, 794, 794, 794, 794, 794, 794, 794, 887, 962, 1007, 1047, 1047, 1047, 1047, 1074, 1074, 1074, 1074, 1107, 1107, 1107, 1107, 1107, 1107, 1107, 1193, 1313, 1363, 1367, 1367, 1422, 1459, 1472, 1589, 1700, 1780, 1908, 2006, 2032, 2179, 2179, 2179, 2179, 2257, 2257, 2334, 2511, 2620]\n"
     ]
    }
   ],
   "source": [
    "w1w2_mean_5un = (gtW1m_5un_tn + gtW2m_5un_tn) / 2\n",
    "#AP_log2ratio_5un = np.log2(gtAm_5un_tn / gtPm_5un_tn) - np.mean([x for x in np.log2(gtAm_5un_tn / gtPm_5un_tn) if np.isfinite(x)])\n",
    "#w1w2_log2ratio_5un = np.log2(gtW1m_5un_tn / gtW2m_5un_tn)  - np.mean([x for x in np.log2(gtW1m_5un_tn / gtW2m_5un_tn) if np.isfinite(x)])\n",
    "AP_diff_5un = (gtAm_5un_tn - gtPm_5un_tn) - np.mean((gtAm_5un_tn - gtPm_5un_tn))\n",
    "w1w2_diff_5un = gtW1m_5un_tn - gtW2m_5un_tn - np.mean((gtW1m_5un_tn - gtW2m_5un_tn))\n",
    "w1w2_mean_5un_pkdata = sorted(zip(w1w2_mean_5un,w1w2_diff_5un,AP_diff_5un,gtm_un0_pks),cmp=(lambda x,y: cmp(x[0],y[0])))\n",
    "w1w2_mean_5un_srt = w1w2_mean_5un_pkdata[::-1]\n",
    "print len(zip(*w1w2_mean_5un_srt)[1])\n",
    "#print w1w2_mean_5un_srt\n",
    "\n",
    "bias2010_dev_srt_idx = []\n",
    "bias2010_dev_pkvals = []\n",
    "for (i,p) in enumerate(w1w2_mean_5un_srt):\n",
    "    for r in b2010_gtBias_10kwin.iterrows():\n",
    "        if ((p[3]['chr'] == r[1]['chr']) and (p[3]['start'] == r[1]['start'])) and (p[3]['end'] == r[1]['end']):\n",
    "            bias2010_dev_srt_idx.append(i)\n",
    "            bias2010_dev_pkvals.append(p)\n",
    "print bias2010_dev_srt_idx\n",
    "\n",
    "mp2013_enhancers_gtBias_overlap_flt_srt_idx = []\n",
    "mp2013_enhancers_gtBias_overlap_flt_pkvals = []\n",
    "for (i,p) in enumerate(w1w2_mean_5un_srt):\n",
    "    for r in mp2013_enhancers_gtBias_overlap.iterrows():\n",
    "        if ((p[3]['chr'] == r[1]['chr']) and (p[3]['start'] == r[1]['start'])) and (p[3]['end'] == r[1]['end']):\n",
    "            mp2013_enhancers_gtBias_overlap_flt_srt_idx.append(i)\n",
    "            mp2013_enhancers_gtBias_overlap_flt_pkvals.append(p)\n",
    "print mp2013_enhancers_gtBias_overlap_flt_srt_idx\n"
   ]
  },
  {
   "cell_type": "code",
   "execution_count": 178,
   "metadata": {
    "collapsed": false
   },
   "outputs": [
    {
     "data": {
      "image/png": "[encoded data removed]",
      "text/plain": [
       "<matplotlib.figure.Figure at 0x126064d90>"
      ]
     },
     "metadata": {},
     "output_type": "display_data"
    }
   ],
   "source": [
    "\n",
    "plt.gcf().set_figwidth(12)\n",
    "plt.gcf().set_figheight(8)\n",
    "#plt.subplot(211)\n",
    "plt.ylim(-100,100)\n",
    "plt.xlim(-10,3500)\n",
    "plt.hlines(0.0,0,len(w1w2_mean_5un_srt),linestyle=\"-\",linewidth=3)\n",
    "#plt.hlines([gt_5unfdr1_subtr_cut,-gt_5unfdr1_subtr_cut],0, len(w1w2_mean_5un_srt),linestyle=\"-\",linewidth=1,color='red',label='1% FDR Cutoff')\n",
    "#plt.hlines([gt_5unfdr5_subtr_cut,-gt_5unfdr5_subtr_cut],0, len(w1w2_mean_5un_srt),linestyle=\":\",linewidth=1,color='red',label='5% FDR Cutoff')\n",
    "plt.plot(np.arange(len(w1w2_mean_5un_srt)),zip(*w1w2_mean_5un_srt)[2],'k.',alpha=0.1)\n",
    "plt.plot(bias2010_dev_srt_idx,zip(*bias2010_dev_pkvals)[2],'r.',markersize=10)\n",
    "plt.plot(mp2013_enhancers_gtBias_overlap_flt_srt_idx,zip(*mp2013_enhancers_gtBias_overlap_flt_pkvals)[2],'b.',markersize=10)\n",
    "#biasPks = [x[1].to_dict() for x in b2010_gtALL_10kwin.iterrows()]\n",
    "plt.xlabel(\"Peak Rank, mean(GT W1,GT W2)\")\n",
    "plt.ylabel(\"Ant GT - Post GT\")\n",
    "plt.legend()\n",
    "#plt.subplot(212)\n",
    "#plt.ylim(-100,100)\n",
    "#plt.plot(np.arange(len(w1w2_mean_5un_srt)),zip(*w1w2_mean_5un_srt)[1],'k.',alpha=0.5)\n",
    "#plt.hlines(0.0,0,len(w1w2_mean_5un_srt),linestyle=\"-\",linewidth=3)\n",
    "#plt.hlines([gt_5unfdr1_subtr_cut,-gt_5unfdr1_subtr_cut],0, len(w1w2_mean_5un_srt),linestyle=\"-\",linewidth=1,color='red',label='1% FDR Cutoff')\n",
    "#plt.hlines([gt_5unfdr5_subtr_cut,-gt_5unfdr5_subtr_cut],0, len(w1w2_mean_5un_srt),linestyle=\":\",linewidth=1,color='red',label='5% FDR Cutoff')\n"
   ]
  },
  {
   "cell_type": "code",
   "execution_count": 181,
   "metadata": {
    "collapsed": false
   },
   "outputs": [],
   "source": [
    "all_5un_pks_out = open(data_out_dir + \"supp_data/all_5un_pks_binding_bias.tsv\",\"w+\")\n",
    "print >> all_5un_pks_out, \"chr\\tstart\\tend\\tlength\\tsummit\\tW1_W2_MEAN\\tW1_W2_DIFF\\tA_P_DIFF\"\n",
    "for x in w1w2_mean_5un_srt:\n",
    "    print >> all_5un_pks_out, \"%s\\t%d\\t%d\\t%d\\t%d\\t%4f\\t%4f\\t%4f\" % (x[3]['chr'],x[3]['start'],x[3]['end'],x[3]['length'],x[3]['summit'],x[0],x[1],x[2])\n",
    "all_5un_pks_out.close()"
   ]
  },
  {
   "cell_type": "code",
   "execution_count": null,
   "metadata": {
    "collapsed": true
   },
   "outputs": [],
   "source": []
  }
 ],
 "metadata": {
  "anaconda-cloud": {},
  "kernelspec": {
   "display_name": "Python [Root]",
   "language": "python",
   "name": "Python [Root]"
  },
  "language_info": {
   "codemirror_mode": {
    "name": "ipython",
    "version": 2
   },
   "file_extension": ".py",
   "mimetype": "text/x-python",
   "name": "python",
   "nbconvert_exporter": "python",
   "pygments_lexer": "ipython2",
   "version": "2.7.12"
  }
 },
 "nbformat": 4,
 "nbformat_minor": 0
}
