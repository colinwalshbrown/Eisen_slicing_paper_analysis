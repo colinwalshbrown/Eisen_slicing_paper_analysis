{
 "cells": [
  {
   "cell_type": "code",
   "execution_count": 21,
   "metadata": {
    "collapsed": false
   },
   "outputs": [],
   "source": [
    "%matplotlib inline\n",
    "import fasta_subseq_2 as fa\n",
    "import seq_plotmethods as sp\n",
    "#import chipseq_processing as cp\n",
    "import itertools as it\n",
    "import tables as tb\n",
    "import numpy as np\n",
    "import subprocess as subp\n",
    "import matplotlib.pyplot as plt\n",
    "import scipy.stats as stats\n",
    "import pandas as pd\n",
    "import gzip\n",
    "import tarfile\n",
    "import re\n",
    "import patser_tools as pat\n",
    "#import matplotlib_venn as vn \n",
    "import os\n",
    "import shutil\n",
    "from __future__ import division\n",
    "from skimage import io as skio\n",
    "from skimage import transform as skxform\n",
    "\n",
    "# set up plotting environment for LaTeX compatability\n",
    "plt.rc('text', usetex = False)\n",
    "plt.rc('font', family = 'serif') "
   ]
  },
  {
   "cell_type": "code",
   "execution_count": 22,
   "metadata": {
    "collapsed": false
   },
   "outputs": [],
   "source": [
    "class chipExpt():\n",
    "    def __init__(self,group,name=\"NoName\",chrs=DMEL_CHRS_EU,chr_ext='ext'):\n",
    "        self.chr_dict = {}\n",
    "        self.group = group\n",
    "        self.name = name\n",
    "        arrays = group._v_children.items()\n",
    "        if chrs:\n",
    "            for ch in chrs:\n",
    "                chr_found = 0\n",
    "                for (name,node) in arrays:\n",
    "                    if re.search(chr_ext + \"\\w*_(chr)?\"+ch+\"$\",name):\n",
    "                        #print (ch,name,node.name)\n",
    "                        chr_found = 1\n",
    "                        self.chr_dict[ch] = node\n",
    "                        break\n",
    "                if chr_found == 0:\n",
    "                    print \"no chr found for %s\" % (ch,)\n",
    "        else:\n",
    "            for n in group._f_walkNodes():\n",
    "                ch_s = re.search(\"chr(.+)\",n.name)\n",
    "                self.chr_dict[ch_s.group(1)] = n\n",
    "                break\n",
    "                    \n",
    "    def __getitem__(self,item):\n",
    "        return self.chr_dict[item]\n",
    "\n",
    "    def write_wig(self,chr_convert=None,span=10,outfile=None):\n",
    "        if outfile == None:\n",
    "            outfile = self.name + \".wig\"\n",
    "        wigout = open(outfile,\"w\")\n",
    "        print >> wigout, \"track type=wiggle_0 name=%s description=%s visibility=full autoScale=off maxHeightPixels=100:50:20\" % (self.name,self.name)\n",
    "        for (chrom,chr_arr) in self.chr_dict.items():\n",
    "            print \"Writing %s...\" % (chrom,),\n",
    "            name = chrom\n",
    "            if chr_convert != None:\n",
    "                name = chr_convert[chrom]\n",
    "            print >> wigout, \"variableStep chrom=%s span=%d\" % (name,span)\n",
    "            for i in np.arange(1,len(chr_arr),step=span):\n",
    "                print >> wigout, \"%d\\t%f\" % (i,np.sum(chr_arr[i:i+span])/float(span))\n",
    "            print \"done!\"\n",
    "        wigout.close()"
   ]
  },
  {
   "cell_type": "markdown",
   "metadata": {},
   "source": [
    "## Datasets:\n",
    "\n",
    "1. Early developmental **genes** from Bradley et. al. (2010)\n",
    "2. Early developmental **enhancers** from Paris et. al. (2012?)\n",
    "3. RedFly - wider set, harder to parse?"
   ]
  },
  {
   "cell_type": "code",
   "execution_count": 23,
   "metadata": {
    "collapsed": false
   },
   "outputs": [
    {
     "name": "stdout",
     "output_type": "stream",
     "text": [
      "WARNING: group 'macs_peaks' exists!\n",
      "WARNING: group 'macs_peaks' exists!\n",
      "WARNING: group 'macs_peaks' exists!\n",
      "WARNING: group 'macs_peaks' exists!\n",
      "Peak window (peak width +/- 0)\n",
      "Starting Sets:\n",
      "\tgtAm :     3000 peaks\n",
      "\tgtPm :      915 peaks\n",
      "\tgtCm :     1870 peaks\n",
      "\tgtW1m :     1629 peaks\n",
      "\tgtW2m :     1557 peaks\n",
      "8971 total peaks in starting set\n",
      "3333 in union, 2022 in intersect\n",
      "final isct: 2022 before filtering, 2022 after\n",
      "total overlapping peaks (all sets): 4044\n",
      "By-Experiment Overlap Counts:\n",
      "\tgtPm :      165\n",
      "\tgtCm :     1054\n",
      "\tgtW2m :      380\n",
      "\tgtW1m :      745\n",
      "\tgtAm :     1700\n",
      "GT Dmel Final 5-way overlaps: 634\n"
     ]
    }
   ],
   "source": [
    "# Working directory; change if necessary\n",
    "home = os.environ[\"HOME\"]\n",
    "current_dir = home + \"/Dropbox/Documents/Manuscripts/slicing/analysis_notebook/\"\n",
    "genomes_dir = current_dir + \"genomes/\"\n",
    "reads_dir = current_dir + \"reads/\"\n",
    "data_out_dir = current_dir + \"data/\"\n",
    "figs_dir = current_dir + \"figs/\"\n",
    "scripts_dir = current_dir + \"scripts/\"\n",
    "mapping_dir = data_out_dir + \"mapping/\"\n",
    "peaks_dir = data_out_dir + \"peaks/\"\n",
    "h5_dir = data_out_dir + \"hf5/\"\n",
    "\n",
    "# Define chromosome names for dmel and dpse\n",
    "DMEL_CHRS = ['2L','2R','3L','3R','X','YHet','4','2LHet','2RHet','3LHet','3RHet','XHet','U','Uextra']\n",
    "DMEL_CHRS_EU = ['2L','2R','3L','3R','X']\n",
    "\n",
    "# Load treatment data\n",
    "\n",
    "# giant ChIP\n",
    "gtAm_h5 = tb.open_file(h5_dir+'gtA_dmel.h5', mode='r+')\n",
    "gtPm_h5 = tb.open_file(h5_dir+'gtP_dmel.h5', mode='r+')\n",
    "gtCm_h5 = tb.open_file(h5_dir+'gtC_dmel.h5', mode='r+')\n",
    "gtW1m_h5 = tb.open_file(h5_dir+'gtW1_dmel.h5', mode='r+')\n",
    "gtW2m_h5 = tb.open_file(h5_dir+'gtW2_dmel.h5', mode='r+')\n",
    "\n",
    "# Load dmel input data - concatenated reads from all input samples\n",
    "inAllm_h5 = tb.open_file(h5_dir+'inAll_dmel.h5', mode='r+')\n",
    "\n",
    "# make chipExpt objects for all above (tag-normed and raw counts)\n",
    "gtAm_tn = chipExpt(gtAm_h5.root.tag_counts.ext_tags,\"Dmel Ant GT ChIP, tag-normalized\")\n",
    "gtPm_tn = chipExpt(gtPm_h5.root.tag_counts.ext_tags,\"Dmel Post GT ChIP, tag-normalized\")\n",
    "gtCm_tn = chipExpt(gtCm_h5.root.tag_counts.ext_tags,\"Dmel Combo GT ChIP, tag-normalized\")\n",
    "gtW1m_tn = chipExpt(gtW1m_h5.root.tag_counts.ext_tags,\"Dmel Whole Rep1 GT ChIP, tag-normalized\")\n",
    "gtW2m_tn = chipExpt(gtW2m_h5.root.tag_counts.ext_tags,\"Dmel Whole Rep2 GT ChIP, tag-normalized\")\n",
    "\n",
    "# Load Peak Data\n",
    "try:\n",
    "    pks_h5 = tb.open_file(peaks_dir+\"/peaks.h5\",\"w\")\n",
    "except ValueError:\n",
    "    pks_h5.close()\n",
    "    pks_h5 = tb.open_file(peaks_dir+\"/peaks.h5\",\"w\")\n",
    "\n",
    "# GT peaks    \n",
    "gtAm_pks_tb = sp.read_macs(pks_h5,peaks_dir+\"gtA_dmel_peaks.xls\",expt_name=\"gtAm_pks\")\n",
    "gtPm_pks_tb = sp.read_macs(pks_h5,peaks_dir+\"gtP_dmel_peaks.xls\",expt_name=\"gtPm_pks\")\n",
    "gtCm_pks_tb = sp.read_macs(pks_h5,peaks_dir+\"gtC_dmel_peaks.xls\",expt_name=\"gtCm_pks\")\n",
    "gtW1m_pks_tb = sp.read_macs(pks_h5,peaks_dir+\"gtW1_dmel_peaks.xls\",expt_name=\"gtW1m_pks\")\n",
    "gtW2m_pks_tb = sp.read_macs(pks_h5,peaks_dir+\"gtW2_dmel_peaks.xls\",expt_name=\"gtW2m_pks\")\n",
    "\n",
    "gtAm_pks = [x for x in sp.pks_to_dict(gtAm_pks_tb) if x['chr'] in DMEL_CHRS_EU]\n",
    "gtPm_pks = [x for x in sp.pks_to_dict(gtPm_pks_tb) if x['chr'] in DMEL_CHRS_EU]\n",
    "gtCm_pks = [x for x in sp.pks_to_dict(gtCm_pks_tb) if x['chr'] in DMEL_CHRS_EU]\n",
    "gtW1m_pks = [x for x in sp.pks_to_dict(gtW1m_pks_tb) if x['chr'] in DMEL_CHRS_EU]\n",
    "gtW2m_pks = [x for x in sp.pks_to_dict(gtW2m_pks_tb) if x['chr'] in DMEL_CHRS_EU]\n",
    "\n",
    "(gtm_un0_pks,gtm_in0_pks,gtm_OL0_pks) = sp.peak_union(0,0,['gtAm','gtPm','gtCm','gtW1m','gtW2m'],True,gtAm_pks,gtPm_pks,gtCm_pks,gtW1m_pks,gtW2m_pks)\n",
    "gtm_5wy_OLs = [x for x in gtm_in0_pks if len(set(x['sets'])) == 5]\n",
    "print \"GT Dmel Final 5-way overlaps: %d\" % (len(gtm_5wy_OLs))\n",
    "\n",
    "# Get matching peak sets from each GT dataset\n",
    "(top1000gtW1m_5wy_OL_pi,top1000gtW1m_5wy_OL) = zip(*sp.get_top_n_peaks(1000,gtm_5wy_OLs,gtW1m_tn))\n",
    "gtAm_top1000gtW1m_5OL_tn = sp.make_array_from_peaks('ns',top1000gtW1m_5wy_OL,gtAm_tn)\n",
    "gtPm_top1000gtW1m_5OL_tn = sp.make_array_from_peaks('ns',top1000gtW1m_5wy_OL,gtPm_tn)\n",
    "gtW1m_top1000gtW1m_5OL_tn = sp.make_array_from_peaks('ns',top1000gtW1m_5wy_OL,gtW1m_tn)\n",
    "gtW2m_top1000gtW1m_5OL_tn = sp.make_array_from_peaks('ns',top1000gtW1m_5wy_OL,gtW2m_tn)\n",
    "gtCm_top1000gtW1m_5OL_tn = sp.make_array_from_peaks('ns',top1000gtW1m_5wy_OL,gtCm_tn)\n",
    "\n",
    "# Get 5-way union peak sets from each GT experiment\n",
    "gtAm_5un_tn = sp.make_array_from_peaks('ns',gtm_un0_pks,gtAm_tn)\n",
    "gtPm_5un_tn = sp.make_array_from_peaks('ns',gtm_un0_pks,gtPm_tn)\n",
    "gtW1m_5un_tn = sp.make_array_from_peaks('ns',gtm_un0_pks,gtW1m_tn)\n",
    "gtW2m_5un_tn = sp.make_array_from_peaks('ns',gtm_un0_pks,gtW2m_tn)\n",
    "gtCm_5un_tn = sp.make_array_from_peaks('ns',gtm_un0_pks,gtCm_tn)\n",
    "\n",
    "gff_h5 = h5_dir + \"/gff.h5\"\n",
    "gff_dmel = sp.GFFtable(genomes_dir + \"/dmel-all-r5.17_genes.gff\",gff_h5,DMEL_CHRS_EU,\"gene\")\n",
    "\n",
    "b2010_genes = \"brk, D, Doc1, Doc2, E(spl), Kr, Phm, SoxN, vnd, bowl, btd, cad, croc, dpp, ems, eve, fkh, ftz, gt, h, hb, hkb, ind, kni, knrl, noc, nub, oc, odd, opa, os, pdm2, pnr, prd, pxb, rho, run, salm, shn, sim, slp1, slp2, sna, sob, sog, ths, tld, tll, tsh, tup, twi, vn, wntD, zen\".split(\", \")\n",
    "b2010_locs = [(g,gff_dmel.gene_location(g)) for g in b2010_genes]\n",
    "\n",
    "\n"
   ]
  },
  {
   "cell_type": "code",
   "execution_count": null,
   "metadata": {
    "collapsed": false
   },
   "outputs": [],
   "source": [
    "def load_peak_sets(pk_file):\n",
    "    pks = []\n",
    "    for (i,p) in enumerate(open(pk_file)):\n",
    "        if i > 0:\n",
    "            pk_in = p[:-1].split(\"\\t\")\n",
    "            pk = (pk_in[5],pk_in[6],pk_in[7],pk_in[8],pk_in[9],pk_in[10],pk_in[11],{'chr':pk_in[0],'start':pk_in[1],'end':pk_in[2],'summit':pk_in[3],'length':pk_in[4]})\n",
    "            pks.append(pk)\n",
    "    return pks\n",
    "\n",
    "gtA_fdr1_pkbind = load_peak_sets(data_out_dir + \"/supp_data/gtA_fdr1_pkbind.tsv\")\n",
    "gtP_fdr1_pkbind = load_peak_sets(data_out_dir + \"/supp_data/gtP_fdr1_pkbind.tsv\")\n",
    "gtA_fdr1_pk = [x[7] for x in gtA_fdr1_pkbind]\n",
    "gtP_fdr1_pk = [x[7] for x in gtP_fdr1_pkbind]\n",
    "notcp_fdr1_pkbind = load_peak_sets(data_out_dir + '/supp_data/gtALL_fdr1_notcp_highpkbind.tsv')\n",
    "notcp_fdr1_pk = [x[7] for x in notcp_fdr1_pkbind]\n",
    "print notcp_fdr1_pk"
   ]
  },
  {
   "cell_type": "markdown",
   "metadata": {},
   "source": [
    "### A/P biased peak overlap w/ region around developmental genes"
   ]
  },
  {
   "cell_type": "code",
   "execution_count": 25,
   "metadata": {
    "collapsed": false
   },
   "outputs": [],
   "source": [
    "def get_region_binding(reg,win=0,*expts):\n",
    "    b_arrays = {}\n",
    "    for ex in expts:\n",
    "        b_arrays[ex.name] = ex[reg['chr']][reg['start']-win:reg['end']+win]\n",
    "    return b_arrays\n",
    "\n",
    "def biased_binding_proportion(reg,win,expt1,expt2):\n",
    "    reg_bind = get_region_binding(reg,win,expt1,expt2)\n",
    "    biased_binding = np.abs(reg_bind[expt1.name] - reg_bind[expt2.name])\n",
    "    total_binding = reg_bind[gtAm_tn.name] + reg_bind[gtPm_tn.name]\n",
    "    return np.sum(biased_binding) / np.sum(total_binding)\n",
    "\n",
    "def biased_binding(reg,win,expt1,expt2):\n",
    "    reg_bind = get_region_binding(reg,win,expt1,expt2)\n",
    "    biased_binding = np.abs(reg_bind[expt1.name] - reg_bind[expt2.name])\n",
    "    return np.sum(biased_binding) / len(biased_binding)\n",
    "\n",
    "def log_odds_binding(reg,win,expt1,expt2):\n",
    "    reg_bind = get_region_binding(reg,win,expt1,expt2)\n",
    "    biased_binding = np.log(np.sum(reg_bind[expt1.name])/np.sum(reg_bind[expt2.name]))\n",
    "    return biased_binding\n",
    "\n",
    "def Abias_Pbias_diff(reg,win,expt1,expt2):\n",
    "    reg_bind = get_region_binding(reg,win,expt1,expt2)\n",
    "    biased_binding_diff = (reg_bind[expt1.name] - reg_bind[expt2.name])\n",
    "    biased_binding = max(biased_binding_diff) - min(biased_binding_diff)\n",
    "    return biased_binding\n",
    "\n",
    "def df_pk_overlap(df,pk,dfchr='chr',pkchr='chr',dfst='start',pkst='start',dfend='end',pkend='end',pkwin=0):\n",
    "    pk_start = pk[pkst] - pkwin\n",
    "    pk_end = pk[pkend] + pkwin\n",
    "    return df.loc[((df[dfchr] == pk[pkchr]) &\n",
    "                   ((((df[dfst] >= pk_start) & (df[dfst] <= pk_end)) |\n",
    "                     ((df[dfend] >= pk_start) & (df[dfend] <= pk_end))) |\n",
    "                    (((pk_start >= df[dfst]) & (pk_start <= df[dfend])) & \n",
    "                     ((pk_end >= df[dfst]) & (pk_end <= df[dfend])))) )]\n",
    "\n",
    "class chipExpt():\n",
    "    def __init__(self,group,name=\"NoName\",chrs=DMEL_CHRS_EU,chr_ext='ext'):\n",
    "        self.chr_dict = {}\n",
    "        self.group = group\n",
    "        self.name = name\n",
    "        arrays = group._v_children.items()\n",
    "        if chrs:\n",
    "            for ch in chrs:\n",
    "                chr_found = 0\n",
    "                for (name,node) in arrays:\n",
    "                    if re.search(chr_ext + \"\\w*_(chr)?\"+ch+\"$\",name):\n",
    "                        #print (ch,name,node.name)\n",
    "                        chr_found = 1\n",
    "                        self.chr_dict[ch] = node\n",
    "                        break\n",
    "                if chr_found == 0:\n",
    "                    print \"no chr found for %s\" % (ch,)\n",
    "        else:\n",
    "            for n in group._f_walkNodes():\n",
    "                ch_s = re.search(\"chr(.+)\",n.name)\n",
    "                self.chr_dict[ch_s.group(1)] = n\n",
    "                break\n",
    "                    \n",
    "    def __getitem__(self,item):\n",
    "        return self.chr_dict[item]\n",
    "\n",
    "    def write_wig(self,chr_convert=None,span=10,outfile=None):\n",
    "        if outfile == None:\n",
    "            outfile = self.name + \".wig\"\n",
    "        wigout = open(outfile,\"w\")\n",
    "        print >> wigout, \"track type=wiggle_0 name=%s description=%s visibility=full autoScale=off maxHeightPixels=100:50:20\" % (self.name,self.name)\n",
    "        for (chrom,chr_arr) in self.chr_dict.items():\n",
    "            print \"Writing %s...\" % (chrom,),\n",
    "            name = chrom\n",
    "            if chr_convert != None:\n",
    "                name = chr_convert[chrom]\n",
    "            print >> wigout, \"variableStep chrom=%s span=%d\" % (name,span)\n",
    "            for i in np.arange(1,len(chr_arr),step=span):\n",
    "                print >> wigout, \"%d\\t%f\" % (i,np.sum(chr_arr[i:i+span])/float(span))\n",
    "            print \"done!\"\n",
    "        wigout.close()"
   ]
  },
  {
   "cell_type": "code",
   "execution_count": 60,
   "metadata": {
    "collapsed": false
   },
   "outputs": [
    {
     "data": {
      "text/plain": [
       "{'boxes': [<matplotlib.lines.Line2D at 0x119a35110>,\n",
       "  <matplotlib.lines.Line2D at 0x11ea57990>],\n",
       " 'caps': [<matplotlib.lines.Line2D at 0x11ea4b050>,\n",
       "  <matplotlib.lines.Line2D at 0x11ea4b690>,\n",
       "  <matplotlib.lines.Line2D at 0x11fcc3c50>,\n",
       "  <matplotlib.lines.Line2D at 0x11fce82d0>],\n",
       " 'fliers': [<matplotlib.lines.Line2D at 0x11ea57350>,\n",
       "  <matplotlib.lines.Line2D at 0x11ab7c590>],\n",
       " 'means': [],\n",
       " 'medians': [<matplotlib.lines.Line2D at 0x11ea4bcd0>,\n",
       "  <matplotlib.lines.Line2D at 0x119dfb8d0>],\n",
       " 'whiskers': [<matplotlib.lines.Line2D at 0x119a35310>,\n",
       "  <matplotlib.lines.Line2D at 0x119a359d0>,\n",
       "  <matplotlib.lines.Line2D at 0x11ea57f90>,\n",
       "  <matplotlib.lines.Line2D at 0x11fcc3610>]}"
      ]
     },
     "execution_count": 60,
     "metadata": {},
     "output_type": "execute_result"
    },
    {
     "data": {
      "image/png": "[encoded data removed]",
      "text/plain": [
       "<matplotlib.figure.Figure at 0x1171fef50>"
      ]
     },
     "metadata": {},
     "output_type": "display_data"
    }
   ],
   "source": [
    "# using log-odds (ratio) scoring\n",
    "b2010_reg_binding_APnormdiff = [(g,r,biased_binding(r,5000,gtAm_tn,gtPm_tn)) for (g,r) in b2010_locs]\n",
    "all_genes_reg_binding_APnormdiff = [(g,biased_binding(g,5000,gtAm_tn,gtPm_tn)) for g in gff_dmel.get_all_entry_type('gene')]\n",
    "b2010_genes_5k_APdiff = open(data_out_dir + \"supp_data/b2010_5k_APdiff.tsv\",\"w+\")\n",
    "all_genes_5k_APdiff = open(data_out_dir + \"supp_data/all_genes_5k_APdiff.tsv\",\"w+\")\n",
    "\n",
    "print >> b2010_genes_5k_APdiff, \"gene\\tFBid\\tchr\\tstart\\tend\\tstrand\\tAP_norm_diff\"\n",
    "for g in b2010_reg_binding_APnormdiff:\n",
    "    print >> b2010_genes_5k_APdiff, \"%s\\t%s\\t%s\\t%d\\t%d\\t%s\\t%f\" % (g[0],g[1]['FBid'],g[1]['chr'],g[1]['start'],g[1]['end'],g[1]['strand'],g[2])\n",
    "b2010_genes_5k_APdiff.close()\n",
    "\n",
    "print >> all_genes_5k_APdiff, \"gene\\tFBid\\tchr\\tstart\\tend\\tstrand\\tAP_norm_diff\"\n",
    "for g in all_genes_reg_binding_APnormdiff:\n",
    "    print >> all_genes_5k_APdiff, \"%s\\t%s\\t%s\\t%d\\t%d\\t%s\\t%f\" % (g[0]['name'],g[0]['FBid'],g[0]['chr'],g[0]['start'],g[0]['end'],g[0]['strand'],g[1])\n",
    "all_genes_5k_APdiff.close()\n",
    "\n",
    "#print b2010_reg_binding_APnormdiff\n",
    "#print all_genes_reg_binding_APnormdiff\n",
    "#plt.gcf().set_figheight(10)\n",
    "#plt.gcf().set_figwidth(10)\n",
    "\n",
    "#all_gene_vals_APlogodds = np.array([x[1] for x in all_genes_reg_binding_APlogodds if np.isfinite(x[1])])\n",
    "#all_gene_vals_APlogodds = np.nan_to_num(all_gene_vals_wnan_APlogodds)\n",
    "#b2010_bind_ratios_APlogodds = np.array(zip(*b2010_reg_binding_APlogodds)[1])\n",
    "#print [x[1] for x in all_genes_reg_binding_APnormdiff]\n",
    "#print np.sum(sorted([x[1] for x in all_genes_reg_binding_APnormdiff if np.isfinite(np.float(x))]))\n",
    "#fx = []\n",
    "#for z in [x[1] for x in all_genes_reg_binding_APnormdiff]:\n",
    "#    try:\n",
    "#        fx.append(np.float(z))\n",
    "#    except:\n",
    "#        print \"ERR:\" + str(z)\n",
    "b2010_vals = np.array([x[2] for x in b2010_reg_binding_APnormdiff])\n",
    "all_vals = np.array([x[1] for x in all_genes_reg_binding_APnormdiff if not np.isnan(x[1])])\n",
    "plt.boxplot([b2010_vals,all_vals])\n",
    "#print fx\n",
    "#plt.vlines(b2010_bind_ratios_APlogodds,0,1600,colors='r')"
   ]
  },
  {
   "cell_type": "code",
   "execution_count": 185,
   "metadata": {
    "collapsed": false
   },
   "outputs": [],
   "source": [
    "gtA_pk_df = pd.DataFrame(columns=['chr','start','end'],index=np.arange(len(gtA_fdr1_pk)))\n",
    "gtA_pk_df['chr'] = [x['chr'] for x in gtA_fdr1_pk]\n",
    "gtA_pk_df['start'] = [int(x['start']) for x in gtA_fdr1_pk]\n",
    "gtA_pk_df['end'] = [int(x['end']) for x in gtA_fdr1_pk]\n",
    "gtA_pk_df['summit'] = [int(x['summit']) for x in gtA_fdr1_pk]\n",
    "\n",
    "gtP_pk_df = pd.DataFrame(columns=['chr','start','end'],index=np.arange(len(gtP_fdr1_pk)))\n",
    "gtP_pk_df['chr'] = [x['chr'] for x in gtP_fdr1_pk]\n",
    "gtP_pk_df['start'] = [int(x['start']) for x in gtP_fdr1_pk]\n",
    "gtP_pk_df['end'] = [int(x['end']) for x in gtP_fdr1_pk]\n",
    "gtP_pk_df['summit'] = [int(x['summit']) for x in gtP_fdr1_pk]\n",
    "\n",
    "gtND_pk_df = pd.DataFrame(columns=['chr','start','end'],index=np.arange(len(notcp_fdr1_pk)))\n",
    "gtND_pk_df['chr'] = [x['chr'] for x in notcp_fdr1_pk]\n",
    "gtND_pk_df['start'] = [int(x['start']) for x in notcp_fdr1_pk]\n",
    "gtND_pk_df['end'] = [int(x['end']) for x in notcp_fdr1_pk]\n",
    "gtND_pk_df['summit'] = [int(x['summit']) for x in notcp_fdr1_pk]\n",
    "\n",
    "gtAll_pk_df = pd.concat([gtA_pk_df,gtP_pk_df,gtND_pk_df],ignore_index=True)\n",
    "gtBias_pk_df = pd.concat([gtA_pk_df,gtP_pk_df],ignore_index=True)"
   ]
  },
  {
   "cell_type": "code",
   "execution_count": 188,
   "metadata": {
    "collapsed": false
   },
   "outputs": [
    {
     "data": {
      "text/plain": [
       "(599, 4)"
      ]
     },
     "execution_count": 188,
     "metadata": {},
     "output_type": "execute_result"
    }
   ],
   "source": [
    "gtAll_pk_df.shape\n",
    "gtBias_pk_df.shape"
   ]
  },
  {
   "cell_type": "code",
   "execution_count": 190,
   "metadata": {
    "collapsed": false
   },
   "outputs": [
    {
     "name": "stderr",
     "output_type": "stream",
     "text": [
      "/Users/barricklab/anaconda/lib/python2.7/site-packages/ipykernel/__main__.py:6: SettingWithCopyWarning: \n",
      "A value is trying to be set on a copy of a slice from a DataFrame.\n",
      "Try using .loc[row_indexer,col_indexer] = value instead\n",
      "\n",
      "See the caveats in the documentation: http://pandas.pydata.org/pandas-docs/stable/indexing.html#indexing-view-versus-copy\n",
      "/Users/barricklab/anaconda/lib/python2.7/site-packages/ipykernel/__main__.py:12: SettingWithCopyWarning: \n",
      "A value is trying to be set on a copy of a slice from a DataFrame.\n",
      "Try using .loc[row_indexer,col_indexer] = value instead\n",
      "\n",
      "See the caveats in the documentation: http://pandas.pydata.org/pandas-docs/stable/indexing.html#indexing-view-versus-copy\n",
      "/Users/barricklab/anaconda/lib/python2.7/site-packages/ipykernel/__main__.py:21: SettingWithCopyWarning: \n",
      "A value is trying to be set on a copy of a slice from a DataFrame.\n",
      "Try using .loc[row_indexer,col_indexer] = value instead\n",
      "\n",
      "See the caveats in the documentation: http://pandas.pydata.org/pandas-docs/stable/indexing.html#indexing-view-versus-copy\n",
      "/Users/barricklab/anaconda/lib/python2.7/site-packages/ipykernel/__main__.py:27: SettingWithCopyWarning: \n",
      "A value is trying to be set on a copy of a slice from a DataFrame.\n",
      "Try using .loc[row_indexer,col_indexer] = value instead\n",
      "\n",
      "See the caveats in the documentation: http://pandas.pydata.org/pandas-docs/stable/indexing.html#indexing-view-versus-copy\n"
     ]
    },
    {
     "name": "stdout",
     "output_type": "stream",
     "text": [
      "(97, 6)\n",
      "(63, 6)\n"
     ]
    }
   ],
   "source": [
    "b2010_locs_Ser = [(k,pd.Series(v)) for (k,v) in b2010_locs]\n",
    "b2010_locs_df = pd.DataFrame.from_items(b2010_locs_Ser,orient='index',columns=b2010_locs_Ser[0][1].index)\n",
    "b2010_gtBias_10kwin = []\n",
    "for x in b2010_locs_df.iterrows():\n",
    "    hits = df_pk_overlap(gtBias_pk_df,x[1],pkwin=5000)\n",
    "    hits['target_gene'] = x[0]\n",
    "    gene_start = None\n",
    "    if x[1]['strand'] == \"+\":\n",
    "        gene_start = x[1]['start']\n",
    "    else:\n",
    "        gene_start = x[1]['end']\n",
    "    hits['summit_target_tss_dist'] = hits['summit'] - gene_start\n",
    "    b2010_gtBias_10kwin.append(hits)\n",
    "#print [(n,ol.shape[0]) for (n,ol) in b2010_gtALL_10kwin.items()]\n",
    "b2010_gtBias_10kwin = pd.concat(b2010_gtBias_10kwin,ignore_index=True)\n",
    "b2010_gtBias_10kwin.to_csv(data_out_dir + \"supp_data/Bias_peaks_5kwin_devgenes.tsv\",sep=\"\\t\")\n",
    "\n",
    "b2010_gt_un0_10kwin = []\n",
    "for x in b2010_locs_df.iterrows():\n",
    "    hits = df_pk_overlap(gtAll_pk_df,x[1],pkwin=5000)\n",
    "    hits['target_gene'] = x[0]\n",
    "    gene_start = None\n",
    "    if x[1]['strand'] == \"+\":\n",
    "        gene_start = x[1]['start']\n",
    "    else:\n",
    "        gene_start = x[1]['end']\n",
    "    hits['summit_target_tss_dist'] = hits['summit'] - gene_start\n",
    "    b2010_gt_un0_10kwin.append(hits)\n",
    "b2010_gt_un0_10kwin = pd.concat(b2010_gt_un0_10kwin,ignore_index=True)\n",
    "b2010_gt_un0_10kwin.to_csv(data_out_dir + \"supp_data/all_un0_peaks_5kwin_devgenes.tsv\",sep=\"\\t\")\n",
    "print b2010_gt_un0_10kwin.shape\n",
    "print b2010_gtBias_10kwin.shape\n",
    "#b2010_gtALL_pk_cnt.name = 'gtBias'\n",
    "#print b2010_gtALL_pk_cnt"
   ]
  },
  {
   "cell_type": "code",
   "execution_count": 74,
   "metadata": {
    "collapsed": true
   },
   "outputs": [],
   "source": [
    "# Import developmental enhancer list from Mathilde's paper\n",
    "mp2013_enhancers = pd.read_csv(\"~/Dropbox/Documents/Manuscripts/slicing/analysis_notebook/data/enhancers/Paris_etal_2013.tsv\",sep=\"\\t\")\n",
    "mp2013_enhancers[\"Chromosome\"] = mp2013_enhancers[\"Chromosome\"].apply((lambda x: re.sub(\"chr\",\"\",x)))\n",
    "mp2013_enhancers.columns = pd.Index([u'NAME', u'Source', u'chr', u'start', u'end'], dtype=object)"
   ]
  },
  {
   "cell_type": "code",
   "execution_count": 192,
   "metadata": {
    "collapsed": false
   },
   "outputs": [
    {
     "name": "stderr",
     "output_type": "stream",
     "text": [
      "/Users/barricklab/anaconda/lib/python2.7/site-packages/ipykernel/__main__.py:4: SettingWithCopyWarning: \n",
      "A value is trying to be set on a copy of a slice from a DataFrame.\n",
      "Try using .loc[row_indexer,col_indexer] = value instead\n",
      "\n",
      "See the caveats in the documentation: http://pandas.pydata.org/pandas-docs/stable/indexing.html#indexing-view-versus-copy\n",
      "/Users/barricklab/anaconda/lib/python2.7/site-packages/ipykernel/__main__.py:5: SettingWithCopyWarning: \n",
      "A value is trying to be set on a copy of a slice from a DataFrame.\n",
      "Try using .loc[row_indexer,col_indexer] = value instead\n",
      "\n",
      "See the caveats in the documentation: http://pandas.pydata.org/pandas-docs/stable/indexing.html#indexing-view-versus-copy\n",
      "/Users/barricklab/anaconda/lib/python2.7/site-packages/ipykernel/__main__.py:6: SettingWithCopyWarning: \n",
      "A value is trying to be set on a copy of a slice from a DataFrame.\n",
      "Try using .loc[row_indexer,col_indexer] = value instead\n",
      "\n",
      "See the caveats in the documentation: http://pandas.pydata.org/pandas-docs/stable/indexing.html#indexing-view-versus-copy\n",
      "/Users/barricklab/anaconda/lib/python2.7/site-packages/ipykernel/__main__.py:7: SettingWithCopyWarning: \n",
      "A value is trying to be set on a copy of a slice from a DataFrame.\n",
      "Try using .loc[row_indexer,col_indexer] = value instead\n",
      "\n",
      "See the caveats in the documentation: http://pandas.pydata.org/pandas-docs/stable/indexing.html#indexing-view-versus-copy\n"
     ]
    },
    {
     "name": "stdout",
     "output_type": "stream",
     "text": [
      "(112, 8)\n"
     ]
    },
    {
     "name": "stderr",
     "output_type": "stream",
     "text": [
      "/Users/barricklab/anaconda/lib/python2.7/site-packages/ipykernel/__main__.py:15: SettingWithCopyWarning: \n",
      "A value is trying to be set on a copy of a slice from a DataFrame.\n",
      "Try using .loc[row_indexer,col_indexer] = value instead\n",
      "\n",
      "See the caveats in the documentation: http://pandas.pydata.org/pandas-docs/stable/indexing.html#indexing-view-versus-copy\n",
      "/Users/barricklab/anaconda/lib/python2.7/site-packages/ipykernel/__main__.py:16: SettingWithCopyWarning: \n",
      "A value is trying to be set on a copy of a slice from a DataFrame.\n",
      "Try using .loc[row_indexer,col_indexer] = value instead\n",
      "\n",
      "See the caveats in the documentation: http://pandas.pydata.org/pandas-docs/stable/indexing.html#indexing-view-versus-copy\n",
      "/Users/barricklab/anaconda/lib/python2.7/site-packages/ipykernel/__main__.py:17: SettingWithCopyWarning: \n",
      "A value is trying to be set on a copy of a slice from a DataFrame.\n",
      "Try using .loc[row_indexer,col_indexer] = value instead\n",
      "\n",
      "See the caveats in the documentation: http://pandas.pydata.org/pandas-docs/stable/indexing.html#indexing-view-versus-copy\n",
      "/Users/barricklab/anaconda/lib/python2.7/site-packages/ipykernel/__main__.py:18: SettingWithCopyWarning: \n",
      "A value is trying to be set on a copy of a slice from a DataFrame.\n",
      "Try using .loc[row_indexer,col_indexer] = value instead\n",
      "\n",
      "See the caveats in the documentation: http://pandas.pydata.org/pandas-docs/stable/indexing.html#indexing-view-versus-copy\n"
     ]
    },
    {
     "name": "stdout",
     "output_type": "stream",
     "text": [
      "(153, 8)\n"
     ]
    }
   ],
   "source": [
    "mp2013_enhancers_gtBias_overlap = []\n",
    "for x in mp2013_enhancers.iterrows():\n",
    "    hits = df_pk_overlap(gtBias_pk_df,x[1],pkwin=0)\n",
    "    hits['enh_name'] = x[1]['NAME']\n",
    "    hits['enh_source'] = x[1]['Source']\n",
    "    hits['enh_start'] = x[1]['start']\n",
    "    hits['enh_end'] = x[1]['end']\n",
    "    mp2013_enhancers_gtBias_overlap.append(hits)\n",
    "mp2013_enhancers_gtBias_overlap = pd.concat(mp2013_enhancers_gtBias_overlap,ignore_index=True)\n",
    "print mp2013_enhancers_gtBias_overlap.shape\n",
    "\n",
    "mp2013_enhancers_gt_un0_overlap = []\n",
    "for x in mp2013_enhancers.iterrows():\n",
    "    hits = df_pk_overlap(gtAll_pk_df,x[1],pkwin=0)\n",
    "    hits['enh_name'] = x[1]['NAME']\n",
    "    hits['enh_source'] = x[1]['Source']\n",
    "    hits['enh_start'] = x[1]['start']\n",
    "    hits['enh_end'] = x[1]['end']\n",
    "    mp2013_enhancers_gt_un0_overlap.append(hits)\n",
    "mp2013_enhancers_gt_un0_overlap = pd.concat(mp2013_enhancers_gt_un0_overlap,ignore_index=True)\n",
    "#mp2013_enhancers_gt_un0_overlap.to_csv(data_out_dir + \"supp_data/all_un0_peaks_5kwin_devgenes.tsv\",sep=\"\\t\")\n",
    "print mp2013_enhancers_gt_un0_overlap.shape\n",
    "\n"
   ]
  },
  {
   "cell_type": "code",
   "execution_count": 157,
   "metadata": {
    "collapsed": false
   },
   "outputs": [
    {
     "name": "stdout",
     "output_type": "stream",
     "text": [
      "112\n"
     ]
    }
   ],
   "source": [
    "print len(mp2013_enhancers_gtBias_overlap)"
   ]
  },
  {
   "cell_type": "code",
   "execution_count": 194,
   "metadata": {
    "collapsed": false
   },
   "outputs": [],
   "source": [
    "mp2013_enhancers_gtBias_overlap_flt = []\n",
    "\n",
    "def calculate_pk_enh_overlap(pk_overlap_df):\n",
    "    overlap = []\n",
    "    for i in range(0,len(pk_overlap_df)):\n",
    "        r = pk_overlap_df.loc[i]\n",
    "        pk_length = float(r['end'] - r['start'])\n",
    "        frac_overlap = 0\n",
    "        if (r['enh_end'] < r['end']) and r['enh_start'] > r['start']:\n",
    "            frac_overlap = (r['enh_end'] - r['enh_start']) / pk_length\n",
    "        elif (r['end'] < r ['enh_end']) and ['start'] > ['enh_start']:\n",
    "            frac_overlap =  (r['end'] - r['start']) / pk_length\n",
    "        elif (r['enh_end'] < r['end']):\n",
    "            frac_overlap = (r['enh_end'] - r['start']) / pk_length\n",
    "        elif (r['enh_start'] > r['start']):\n",
    "            frac_overlap = (r['end'] - r['enh_start']) / pk_length\n",
    "        overlap.append(frac_overlap)\n",
    "    pk_overlap_df[\"Overlap\"] = overlap\n",
    "\n",
    "calculate_pk_enh_overlap(mp2013_enhancers_gtBias_overlap)\n",
    "calculate_pk_enh_overlap(mp2013_enhancers_gt_un0_overlap)\n",
    "\n",
    "mp2013_enhancers_gtBias_overlap_flt = mp2013_enhancers_gtBias_overlap[mp2013_enhancers_gtBias_overlap[\"Overlap\"] > 0.6]\n",
    "mp2013_enhancers_gtBias_overlap_flt.to_csv(data_out_dir + \"supp_data/Bias_pks_mp2013_enhancers_overlap_flt.tsv\",sep=\"\\t\")\n",
    "\n",
    "mp2013_enhancers_gt_un0_overlap_flt = mp2013_enhancers_gt_un0_overlap[mp2013_enhancers_gt_un0_overlap[\"Overlap\"] > 0.6]\n",
    "mp2013_enhancers_gt_un0_overlap_flt.to_csv(data_out_dir + \"supp_data/All_pks_mp2013_enhancers_overlap_flt.tsv\",sep=\"\\t\")\n"
   ]
  },
  {
   "cell_type": "code",
   "execution_count": 170,
   "metadata": {
    "collapsed": false
   },
   "outputs": [
    {
     "name": "stdout",
     "output_type": "stream",
     "text": [
      "3333\n",
      "[5, 13, 14, 17, 18, 21, 24, 52, 74, 83, 84, 93, 109, 140, 141, 154, 167, 187, 244, 245, 270, 272, 275, 296, 322, 334, 352, 380, 395, 405, 418, 465, 480, 495, 547, 550, 587, 632, 705, 747, 753, 784, 794, 864, 887, 962, 1047, 1074, 1283, 1347, 1367, 1422, 1459, 1551, 1602, 1665, 1700, 1748, 1780, 1786, 2138, 2511, 2570]\n",
      "[8, 8, 13, 13, 18, 18, 18, 18, 18, 18, 21, 21, 21, 21, 42, 52, 52, 52, 52, 52, 52, 62, 68, 79, 84, 102, 109, 145, 145, 150, 187, 187, 187, 187, 243, 244, 244, 245, 273, 273, 273, 279, 283, 283, 283, 283, 283, 334, 352, 405, 405, 454, 454, 454, 454, 519, 594, 594, 599, 605, 711, 730, 794, 794, 794, 794, 794, 794, 794, 794, 794, 887, 962, 1007, 1047, 1047, 1047, 1047, 1074, 1074, 1074, 1074, 1107, 1107, 1107, 1107, 1107, 1107, 1107, 1193, 1313, 1363, 1367, 1367, 1422, 1459, 1472, 1589, 1700, 1780, 1908, 2006, 2032, 2179, 2179, 2179, 2179, 2257, 2257, 2334, 2511, 2620]\n"
     ]
    }
   ],
   "source": [
    "w1w2_mean_5un = (gtW1m_5un_tn + gtW2m_5un_tn) / 2\n",
    "#AP_log2ratio_5un = np.log2(gtAm_5un_tn / gtPm_5un_tn) - np.mean([x for x in np.log2(gtAm_5un_tn / gtPm_5un_tn) if np.isfinite(x)])\n",
    "#w1w2_log2ratio_5un = np.log2(gtW1m_5un_tn / gtW2m_5un_tn)  - np.mean([x for x in np.log2(gtW1m_5un_tn / gtW2m_5un_tn) if np.isfinite(x)])\n",
    "AP_diff_5un = (gtAm_5un_tn - gtPm_5un_tn) - np.mean((gtAm_5un_tn - gtPm_5un_tn))\n",
    "w1w2_diff_5un = gtW1m_5un_tn - gtW2m_5un_tn - np.mean((gtW1m_5un_tn - gtW2m_5un_tn))\n",
    "w1w2_mean_5un_pkdata = sorted(zip(w1w2_mean_5un,w1w2_diff_5un,AP_diff_5un,gtm_un0_pks),cmp=(lambda x,y: cmp(x[0],y[0])))\n",
    "w1w2_mean_5un_srt = w1w2_mean_5un_pkdata[::-1]\n",
    "print len(zip(*w1w2_mean_5un_srt)[1])\n",
    "#print w1w2_mean_5un_srt\n",
    "\n",
    "bias2010_dev_srt_idx = []\n",
    "bias2010_dev_pkvals = []\n",
    "for (i,p) in enumerate(w1w2_mean_5un_srt):\n",
    "    for r in b2010_gtBias_10kwin.iterrows():\n",
    "        if ((p[3]['chr'] == r[1]['chr']) and (p[3]['start'] == r[1]['start'])) and (p[3]['end'] == r[1]['end']):\n",
    "            bias2010_dev_srt_idx.append(i)\n",
    "            bias2010_dev_pkvals.append(p)\n",
    "print bias2010_dev_srt_idx\n",
    "\n",
    "mp2013_enhancers_gtBias_overlap_flt_srt_idx = []\n",
    "mp2013_enhancers_gtBias_overlap_flt_pkvals = []\n",
    "for (i,p) in enumerate(w1w2_mean_5un_srt):\n",
    "    for r in mp2013_enhancers_gtBias_overlap.iterrows():\n",
    "        if ((p[3]['chr'] == r[1]['chr']) and (p[3]['start'] == r[1]['start'])) and (p[3]['end'] == r[1]['end']):\n",
    "            mp2013_enhancers_gtBias_overlap_flt_srt_idx.append(i)\n",
    "            mp2013_enhancers_gtBias_overlap_flt_pkvals.append(p)\n",
    "print mp2013_enhancers_gtBias_overlap_flt_srt_idx\n"
   ]
  },
  {
   "cell_type": "code",
   "execution_count": 178,
   "metadata": {
    "collapsed": false
   },
   "outputs": [
    {
     "data": {
      "image/png": "[encoded data removed]",
      "text/plain": [
       "<matplotlib.figure.Figure at 0x126064d90>"
      ]
     },
     "metadata": {},
     "output_type": "display_data"
    }
   ],
   "source": [
    "\n",
    "plt.gcf().set_figwidth(12)\n",
    "plt.gcf().set_figheight(8)\n",
    "#plt.subplot(211)\n",
    "plt.ylim(-100,100)\n",
    "plt.xlim(-10,3500)\n",
    "plt.hlines(0.0,0,len(w1w2_mean_5un_srt),linestyle=\"-\",linewidth=3)\n",
    "#plt.hlines([gt_5unfdr1_subtr_cut,-gt_5unfdr1_subtr_cut],0, len(w1w2_mean_5un_srt),linestyle=\"-\",linewidth=1,color='red',label='1% FDR Cutoff')\n",
    "#plt.hlines([gt_5unfdr5_subtr_cut,-gt_5unfdr5_subtr_cut],0, len(w1w2_mean_5un_srt),linestyle=\":\",linewidth=1,color='red',label='5% FDR Cutoff')\n",
    "plt.plot(np.arange(len(w1w2_mean_5un_srt)),zip(*w1w2_mean_5un_srt)[2],'k.',alpha=0.1)\n",
    "plt.plot(bias2010_dev_srt_idx,zip(*bias2010_dev_pkvals)[2],'r.',markersize=10)\n",
    "plt.plot(mp2013_enhancers_gtBias_overlap_flt_srt_idx,zip(*mp2013_enhancers_gtBias_overlap_flt_pkvals)[2],'b.',markersize=10)\n",
    "#biasPks = [x[1].to_dict() for x in b2010_gtALL_10kwin.iterrows()]\n",
    "plt.xlabel(\"Peak Rank, mean(GT W1,GT W2)\")\n",
    "plt.ylabel(\"Ant GT - Post GT\")\n",
    "plt.legend()\n",
    "#plt.subplot(212)\n",
    "#plt.ylim(-100,100)\n",
    "#plt.plot(np.arange(len(w1w2_mean_5un_srt)),zip(*w1w2_mean_5un_srt)[1],'k.',alpha=0.5)\n",
    "#plt.hlines(0.0,0,len(w1w2_mean_5un_srt),linestyle=\"-\",linewidth=3)\n",
    "#plt.hlines([gt_5unfdr1_subtr_cut,-gt_5unfdr1_subtr_cut],0, len(w1w2_mean_5un_srt),linestyle=\"-\",linewidth=1,color='red',label='1% FDR Cutoff')\n",
    "#plt.hlines([gt_5unfdr5_subtr_cut,-gt_5unfdr5_subtr_cut],0, len(w1w2_mean_5un_srt),linestyle=\":\",linewidth=1,color='red',label='5% FDR Cutoff')\n"
   ]
  },
  {
   "cell_type": "code",
   "execution_count": 181,
   "metadata": {
    "collapsed": false
   },
   "outputs": [],
   "source": [
    "all_5un_pks_out = open(data_out_dir + \"supp_data/all_5un_pks_binding_bias.tsv\",\"w+\")\n",
    "print >> all_5un_pks_out, \"chr\\tstart\\tend\\tlength\\tsummit\\tW1_W2_MEAN\\tW1_W2_DIFF\\tA_P_DIFF\"\n",
    "for x in w1w2_mean_5un_srt:\n",
    "    print >> all_5un_pks_out, \"%s\\t%d\\t%d\\t%d\\t%d\\t%4f\\t%4f\\t%4f\" % (x[3]['chr'],x[3]['start'],x[3]['end'],x[3]['length'],x[3]['summit'],x[0],x[1],x[2])\n",
    "all_5un_pks_out.close()"
   ]
  },
  {
   "cell_type": "code",
   "execution_count": null,
   "metadata": {
    "collapsed": true
   },
   "outputs": [],
   "source": []
  }
 ],
 "metadata": {
  "anaconda-cloud": {},
  "kernelspec": {
   "display_name": "Python 2",
   "language": "python",
   "name": "python2"
  },
  "language_info": {
   "codemirror_mode": {
    "name": "ipython",
    "version": 2
   },
   "file_extension": ".py",
   "mimetype": "text/x-python",
   "name": "python",
   "nbconvert_exporter": "python",
   "pygments_lexer": "ipython2",
   "version": "2.7.13"
  }
 },
 "nbformat": 4,
 "nbformat_minor": 0
}
